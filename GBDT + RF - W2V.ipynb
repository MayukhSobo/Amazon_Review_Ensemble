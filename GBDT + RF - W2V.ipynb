{
 "cells": [
  {
   "cell_type": "code",
   "execution_count": 43,
   "metadata": {},
   "outputs": [],
   "source": [
    "import numpy as np\n",
    "import pandas as pd\n",
    "from sklearn.ensemble import RandomForestClassifier\n",
    "import xgboost as xgb\n",
    "\n",
    "from sklearn.model_selection import (\n",
    "    GridSearchCV, RandomizedSearchCV, \n",
    "    TimeSeriesSplit\n",
    ")\n",
    "from sklearn.externals import joblib\n",
    "\n",
    "import matplotlib.pyplot as plt\n",
    "import matplotlib\n",
    "import seaborn as sns\n",
    "\n",
    "from scipy import sparse\n",
    "\n",
    "from collections import defaultdict\n",
    "%config InlineBackend.figure_format = 'retina'"
   ]
  },
  {
   "cell_type": "code",
   "execution_count": 3,
   "metadata": {},
   "outputs": [],
   "source": [
    "def get_summary_grid(grid):\n",
    "    parms = list(grid.param_grid.keys())\n",
    "    columns = ['Iter #']\n",
    "    scorings = grid.scoring\n",
    "    for scoring in scorings:\n",
    "        for typ in ['train', 'test']:\n",
    "            columns.append(f'{typ}_{scoring}')\n",
    "    columns.extend(['fit_time', 'score_time'])\n",
    "    for param in grid.param_grid.keys():\n",
    "        columns.append(param)\n",
    "    df = pd.DataFrame(columns=columns)\n",
    "    cv_res = grid.cv_results_\n",
    "    for col in columns[1:-len(parms)]:\n",
    "        df[col] = cv_res['mean_' + col]\n",
    "    items = 1\n",
    "    for k, v in grid.param_grid.items():\n",
    "        items *= len(v)\n",
    "    df['Iter #'] = np.array(range(items)) + 1\n",
    "    res = defaultdict(list)\n",
    "    for each in grid.cv_results_['params']:\n",
    "        for p in parms:\n",
    "            res[p].append(each[p])\n",
    "    for k, v in res.items():\n",
    "        df[k] = v\n",
    "    return df"
   ]
  },
  {
   "cell_type": "code",
   "execution_count": 4,
   "metadata": {},
   "outputs": [],
   "source": [
    "def get_summary_randomized(grid):\n",
    "    parms = list(grid.param_distributions.keys())\n",
    "    columns = []\n",
    "    scorings = grid.scoring\n",
    "    for scoring in scorings:\n",
    "        for typ in ['train', 'test']:\n",
    "            columns.append(f'{typ}_{scoring}')\n",
    "    columns.extend(['fit_time', 'score_time'])\n",
    "    for param in parms:\n",
    "        columns.append(param)\n",
    "    df = pd.DataFrame(columns=columns)\n",
    "    cv_res = grid.cv_results_\n",
    "    for col in columns[0:-len(parms)]:\n",
    "        df[col] = cv_res['mean_' + col]\n",
    "    items = 1\n",
    "#     for k, v in grid.param_distributions.items():\n",
    "#         items *= len(v)\n",
    "#     df['Iter #'] = np.array(range(items)) + 1\n",
    "    res = defaultdict(list)\n",
    "    for each in grid.cv_results_['params']:\n",
    "        for p in parms:\n",
    "            res[p].append(each[p])\n",
    "    for k, v in res.items():\n",
    "        df[k] = v\n",
    "    return df"
   ]
  },
  {
   "cell_type": "code",
   "execution_count": 5,
   "metadata": {},
   "outputs": [],
   "source": [
    "tscv = TimeSeriesSplit(n_splits=5)"
   ]
  },
  {
   "cell_type": "markdown",
   "metadata": {},
   "source": [
    "## Avg. W2V"
   ]
  },
  {
   "cell_type": "code",
   "execution_count": 36,
   "metadata": {},
   "outputs": [],
   "source": [
    "Dtrain_Avg_w2v = pd.read_csv('../Amazon_Review_commons/AvgW2V_train.csv')\n",
    "Dtest_Avg_w2v = pd.read_csv('../Amazon_Review_commons/AvgW2V_test.csv')"
   ]
  },
  {
   "cell_type": "code",
   "execution_count": 37,
   "metadata": {},
   "outputs": [
    {
     "name": "stdout",
     "output_type": "stream",
     "text": [
      "(254882, 101)\n",
      "(109236, 101)\n"
     ]
    }
   ],
   "source": [
    "print(Dtrain_Avg_w2v.shape)\n",
    "print(Dtest_Avg_w2v.shape)"
   ]
  },
  {
   "cell_type": "code",
   "execution_count": 38,
   "metadata": {},
   "outputs": [],
   "source": [
    "yTrain_avg_w2v = Dtrain_Avg_w2v.Label\n",
    "yTest_avg_w2v = Dtest_Avg_w2v.Label\n",
    "\n",
    "Dtrain_Avg_w2v.drop(['Label'], inplace=True, axis=1)\n",
    "Dtest_Avg_w2v.drop(['Label'], inplace=True, axis=1)"
   ]
  },
  {
   "cell_type": "markdown",
   "metadata": {},
   "source": [
    "### GridSearch for base learners"
   ]
  },
  {
   "cell_type": "code",
   "execution_count": 14,
   "metadata": {},
   "outputs": [],
   "source": [
    "params = {\n",
    "    'max_depth': [2, 4, 6],  # How deep the base learners need to go -- typically small value\n",
    "    'subsample': [0.5, 0.75, 1.0], # Row sampling like Random Forest \n",
    "    'colsample_bytree': [0.3, 0.5, 0.7, 1.0]  # Column sampling like Random Forest\n",
    "}"
   ]
  },
  {
   "cell_type": "code",
   "execution_count": 15,
   "metadata": {},
   "outputs": [],
   "source": [
    "estimator = xgb.XGBClassifier(random_state=42)"
   ]
  },
  {
   "cell_type": "code",
   "execution_count": 16,
   "metadata": {},
   "outputs": [],
   "source": [
    "grid = GridSearchCV(estimator=estimator,\n",
    "                    param_grid=params,\n",
    "                    scoring={'accuracy', 'precision', 'f1', 'recall'},\n",
    "                    refit='f1', # Because we are using multiple evaluation metrics\n",
    "                    cv=tscv,\n",
    "                    return_train_score=True,\n",
    "                    verbose=2,\n",
    "                    n_jobs=8)"
   ]
  },
  {
   "cell_type": "code",
   "execution_count": 17,
   "metadata": {},
   "outputs": [],
   "source": [
    "features = Dtrain_Avg_w2v\n",
    "labels = yTrain_avg_w2v.apply(lambda x: 1 if x == 'positive' else 0).values"
   ]
  },
  {
   "cell_type": "code",
   "execution_count": null,
   "metadata": {},
   "outputs": [
    {
     "name": "stdout",
     "output_type": "stream",
     "text": [
      "Fitting 5 folds for each of 36 candidates, totalling 180 fits\n"
     ]
    },
    {
     "name": "stderr",
     "output_type": "stream",
     "text": [
      "[Parallel(n_jobs=8)]: Using backend LokyBackend with 8 concurrent workers.\n",
      "[Parallel(n_jobs=8)]: Done  25 tasks      | elapsed:  6.4min\n"
     ]
    }
   ],
   "source": [
    "grid.fit(features, labels)"
   ]
  },
  {
   "cell_type": "code",
   "execution_count": 20,
   "metadata": {},
   "outputs": [
    {
     "data": {
      "text/plain": [
       "XGBClassifier(base_score=0.5, booster='gbtree', colsample_bylevel=1,\n",
       "       colsample_bytree=0.7, gamma=0, learning_rate=0.1, max_delta_step=0,\n",
       "       max_depth=6, min_child_weight=1, missing=None, n_estimators=100,\n",
       "       n_jobs=1, nthread=None, objective='binary:logistic',\n",
       "       random_state=42, reg_alpha=0, reg_lambda=1, scale_pos_weight=1,\n",
       "       seed=None, silent=True, subsample=0.75)"
      ]
     },
     "execution_count": 20,
     "metadata": {},
     "output_type": "execute_result"
    }
   ],
   "source": [
    "grid.best_estimator_"
   ]
  },
  {
   "cell_type": "code",
   "execution_count": 23,
   "metadata": {},
   "outputs": [
    {
     "data": {
      "text/html": [
       "<div>\n",
       "<style scoped>\n",
       "    .dataframe tbody tr th:only-of-type {\n",
       "        vertical-align: middle;\n",
       "    }\n",
       "\n",
       "    .dataframe tbody tr th {\n",
       "        vertical-align: top;\n",
       "    }\n",
       "\n",
       "    .dataframe thead th {\n",
       "        text-align: right;\n",
       "    }\n",
       "</style>\n",
       "<table border=\"1\" class=\"dataframe\">\n",
       "  <thead>\n",
       "    <tr style=\"text-align: right;\">\n",
       "      <th></th>\n",
       "      <th>Iter #</th>\n",
       "      <th>train_accuracy</th>\n",
       "      <th>test_accuracy</th>\n",
       "      <th>train_f1</th>\n",
       "      <th>test_f1</th>\n",
       "      <th>train_precision</th>\n",
       "      <th>test_precision</th>\n",
       "      <th>train_recall</th>\n",
       "      <th>test_recall</th>\n",
       "      <th>fit_time</th>\n",
       "      <th>score_time</th>\n",
       "      <th>max_depth</th>\n",
       "      <th>subsample</th>\n",
       "      <th>colsample_bytree</th>\n",
       "    </tr>\n",
       "  </thead>\n",
       "  <tbody>\n",
       "    <tr>\n",
       "      <th>25</th>\n",
       "      <td>26</td>\n",
       "      <td>0.919116</td>\n",
       "      <td>0.882462</td>\n",
       "      <td>0.954899</td>\n",
       "      <td>0.933164</td>\n",
       "      <td>0.927105</td>\n",
       "      <td>0.895178</td>\n",
       "      <td>0.984443</td>\n",
       "      <td>0.974519</td>\n",
       "      <td>410.220410</td>\n",
       "      <td>4.100505</td>\n",
       "      <td>6</td>\n",
       "      <td>0.75</td>\n",
       "      <td>0.7</td>\n",
       "    </tr>\n",
       "    <tr>\n",
       "      <th>33</th>\n",
       "      <td>34</td>\n",
       "      <td>0.917972</td>\n",
       "      <td>0.882589</td>\n",
       "      <td>0.954240</td>\n",
       "      <td>0.933135</td>\n",
       "      <td>0.926912</td>\n",
       "      <td>0.896359</td>\n",
       "      <td>0.983255</td>\n",
       "      <td>0.973063</td>\n",
       "      <td>484.153447</td>\n",
       "      <td>4.090171</td>\n",
       "      <td>6</td>\n",
       "      <td>0.50</td>\n",
       "      <td>1.0</td>\n",
       "    </tr>\n",
       "    <tr>\n",
       "      <th>34</th>\n",
       "      <td>35</td>\n",
       "      <td>0.919868</td>\n",
       "      <td>0.882293</td>\n",
       "      <td>0.955301</td>\n",
       "      <td>0.933029</td>\n",
       "      <td>0.927830</td>\n",
       "      <td>0.895477</td>\n",
       "      <td>0.984483</td>\n",
       "      <td>0.973873</td>\n",
       "      <td>560.638388</td>\n",
       "      <td>3.962929</td>\n",
       "      <td>6</td>\n",
       "      <td>0.75</td>\n",
       "      <td>1.0</td>\n",
       "    </tr>\n",
       "    <tr>\n",
       "      <th>16</th>\n",
       "      <td>17</td>\n",
       "      <td>0.917868</td>\n",
       "      <td>0.882053</td>\n",
       "      <td>0.954251</td>\n",
       "      <td>0.932988</td>\n",
       "      <td>0.925627</td>\n",
       "      <td>0.894189</td>\n",
       "      <td>0.984732</td>\n",
       "      <td>0.975310</td>\n",
       "      <td>300.779764</td>\n",
       "      <td>4.086809</td>\n",
       "      <td>6</td>\n",
       "      <td>0.75</td>\n",
       "      <td>0.5</td>\n",
       "    </tr>\n",
       "    <tr>\n",
       "      <th>24</th>\n",
       "      <td>25</td>\n",
       "      <td>0.917226</td>\n",
       "      <td>0.882095</td>\n",
       "      <td>0.953859</td>\n",
       "      <td>0.932893</td>\n",
       "      <td>0.925919</td>\n",
       "      <td>0.895678</td>\n",
       "      <td>0.983564</td>\n",
       "      <td>0.973339</td>\n",
       "      <td>350.105640</td>\n",
       "      <td>4.045161</td>\n",
       "      <td>6</td>\n",
       "      <td>0.50</td>\n",
       "      <td>0.7</td>\n",
       "    </tr>\n",
       "  </tbody>\n",
       "</table>\n",
       "</div>"
      ],
      "text/plain": [
       "    Iter #  train_accuracy  test_accuracy  train_f1   test_f1  \\\n",
       "25      26        0.919116       0.882462  0.954899  0.933164   \n",
       "33      34        0.917972       0.882589  0.954240  0.933135   \n",
       "34      35        0.919868       0.882293  0.955301  0.933029   \n",
       "16      17        0.917868       0.882053  0.954251  0.932988   \n",
       "24      25        0.917226       0.882095  0.953859  0.932893   \n",
       "\n",
       "    train_precision  test_precision  train_recall  test_recall    fit_time  \\\n",
       "25         0.927105        0.895178      0.984443     0.974519  410.220410   \n",
       "33         0.926912        0.896359      0.983255     0.973063  484.153447   \n",
       "34         0.927830        0.895477      0.984483     0.973873  560.638388   \n",
       "16         0.925627        0.894189      0.984732     0.975310  300.779764   \n",
       "24         0.925919        0.895678      0.983564     0.973339  350.105640   \n",
       "\n",
       "    score_time  max_depth  subsample  colsample_bytree  \n",
       "25    4.100505          6       0.75               0.7  \n",
       "33    4.090171          6       0.50               1.0  \n",
       "34    3.962929          6       0.75               1.0  \n",
       "16    4.086809          6       0.75               0.5  \n",
       "24    4.045161          6       0.50               0.7  "
      ]
     },
     "execution_count": 23,
     "metadata": {},
     "output_type": "execute_result"
    }
   ],
   "source": [
    "get_summary_grid(grid).sort_values('test_f1', ascending=False).head()"
   ]
  },
  {
   "cell_type": "markdown",
   "metadata": {},
   "source": [
    "### GridSearch for overfitting"
   ]
  },
  {
   "cell_type": "code",
   "execution_count": 48,
   "metadata": {},
   "outputs": [],
   "source": [
    "params = {\n",
    "    'learning_rate': [0.1, 0.01, 0.001],\n",
    "    'n_estimators': [50, 100, 150]\n",
    "}"
   ]
  },
  {
   "cell_type": "code",
   "execution_count": 53,
   "metadata": {},
   "outputs": [],
   "source": [
    "estimator = grid.best_estimator_"
   ]
  },
  {
   "cell_type": "code",
   "execution_count": 54,
   "metadata": {},
   "outputs": [],
   "source": [
    "grid2 = GridSearchCV(estimator=estimator,\n",
    "                    param_grid=params,\n",
    "                    scoring={'accuracy', 'precision', 'f1', 'recall', 'roc_auc'},\n",
    "                    refit='f1', # Because we are using multiple evaluation metrics\n",
    "                    cv=tscv,\n",
    "                    return_train_score=True,\n",
    "                    verbose=2,\n",
    "                    n_jobs=-1)"
   ]
  },
  {
   "cell_type": "code",
   "execution_count": 55,
   "metadata": {},
   "outputs": [
    {
     "name": "stdout",
     "output_type": "stream",
     "text": [
      "Fitting 5 folds for each of 9 candidates, totalling 45 fits\n"
     ]
    },
    {
     "name": "stderr",
     "output_type": "stream",
     "text": [
      "[Parallel(n_jobs=-1)]: Using backend LokyBackend with 12 concurrent workers.\n",
      "[Parallel(n_jobs=-1)]: Done  17 tasks      | elapsed: 13.8min\n",
      "[Parallel(n_jobs=-1)]: Done  45 out of  45 | elapsed: 39.3min remaining:    0.0s\n",
      "[Parallel(n_jobs=-1)]: Done  45 out of  45 | elapsed: 39.3min finished\n"
     ]
    },
    {
     "data": {
      "text/plain": [
       "GridSearchCV(cv=TimeSeriesSplit(max_train_size=None, n_splits=5),\n",
       "       error_score='raise-deprecating',\n",
       "       estimator=XGBClassifier(base_score=0.5, booster='gbtree', colsample_bylevel=1,\n",
       "       colsample_bytree=0.7, gamma=0, learning_rate=0.1, max_delta_step=0,\n",
       "       max_depth=6, min_child_weight=1, missing=None, n_estimators=100,\n",
       "       n_jobs=1, nthread=-1, objective='binary:logistic', random_state=42,\n",
       "       reg_alpha=0, reg_lambda=1, scale_pos_weight=1, seed=None,\n",
       "       silent=True, subsample=0.75),\n",
       "       fit_params=None, iid='warn', n_jobs=-1,\n",
       "       param_grid={'learning_rate': [0.1, 0.01, 0.001], 'n_estimators': [50, 100, 150]},\n",
       "       pre_dispatch='2*n_jobs', refit='f1', return_train_score=True,\n",
       "       scoring={'f1', 'accuracy', 'roc_auc', 'precision', 'recall'},\n",
       "       verbose=2)"
      ]
     },
     "execution_count": 55,
     "metadata": {},
     "output_type": "execute_result"
    }
   ],
   "source": [
    "grid2.fit(features, labels)"
   ]
  },
  {
   "cell_type": "code",
   "execution_count": 56,
   "metadata": {},
   "outputs": [
    {
     "data": {
      "text/plain": [
       "XGBClassifier(base_score=0.5, booster='gbtree', colsample_bylevel=1,\n",
       "       colsample_bytree=0.7, gamma=0, learning_rate=0.1, max_delta_step=0,\n",
       "       max_depth=6, min_child_weight=1, missing=None, n_estimators=150,\n",
       "       n_jobs=1, nthread=-1, objective='binary:logistic', random_state=42,\n",
       "       reg_alpha=0, reg_lambda=1, scale_pos_weight=1, seed=None,\n",
       "       silent=True, subsample=0.75)"
      ]
     },
     "execution_count": 56,
     "metadata": {},
     "output_type": "execute_result"
    }
   ],
   "source": [
    "grid2.best_estimator_"
   ]
  },
  {
   "cell_type": "code",
   "execution_count": 11,
   "metadata": {},
   "outputs": [
    {
     "data": {
      "text/html": [
       "<div>\n",
       "<style scoped>\n",
       "    .dataframe tbody tr th:only-of-type {\n",
       "        vertical-align: middle;\n",
       "    }\n",
       "\n",
       "    .dataframe tbody tr th {\n",
       "        vertical-align: top;\n",
       "    }\n",
       "\n",
       "    .dataframe thead th {\n",
       "        text-align: right;\n",
       "    }\n",
       "</style>\n",
       "<table border=\"1\" class=\"dataframe\">\n",
       "  <thead>\n",
       "    <tr style=\"text-align: right;\">\n",
       "      <th></th>\n",
       "      <th>Iter #</th>\n",
       "      <th>train_recall</th>\n",
       "      <th>test_recall</th>\n",
       "      <th>train_precision</th>\n",
       "      <th>test_precision</th>\n",
       "      <th>train_accuracy</th>\n",
       "      <th>test_accuracy</th>\n",
       "      <th>train_roc_auc</th>\n",
       "      <th>test_roc_auc</th>\n",
       "      <th>train_f1</th>\n",
       "      <th>test_f1</th>\n",
       "      <th>fit_time</th>\n",
       "      <th>score_time</th>\n",
       "      <th>learning_rate</th>\n",
       "      <th>n_estimators</th>\n",
       "    </tr>\n",
       "  </thead>\n",
       "  <tbody>\n",
       "    <tr>\n",
       "      <th>2</th>\n",
       "      <td>3</td>\n",
       "      <td>0.984830</td>\n",
       "      <td>0.971778</td>\n",
       "      <td>0.936630</td>\n",
       "      <td>0.899051</td>\n",
       "      <td>0.928844</td>\n",
       "      <td>0.884374</td>\n",
       "      <td>0.954448</td>\n",
       "      <td>0.895756</td>\n",
       "      <td>0.960106</td>\n",
       "      <td>0.934000</td>\n",
       "      <td>696.867451</td>\n",
       "      <td>8.126419</td>\n",
       "      <td>0.10</td>\n",
       "      <td>150</td>\n",
       "    </tr>\n",
       "    <tr>\n",
       "      <th>1</th>\n",
       "      <td>2</td>\n",
       "      <td>0.984443</td>\n",
       "      <td>0.974519</td>\n",
       "      <td>0.927105</td>\n",
       "      <td>0.895178</td>\n",
       "      <td>0.919116</td>\n",
       "      <td>0.882462</td>\n",
       "      <td>0.942089</td>\n",
       "      <td>0.892911</td>\n",
       "      <td>0.954899</td>\n",
       "      <td>0.933164</td>\n",
       "      <td>550.661353</td>\n",
       "      <td>5.652469</td>\n",
       "      <td>0.10</td>\n",
       "      <td>100</td>\n",
       "    </tr>\n",
       "    <tr>\n",
       "      <th>0</th>\n",
       "      <td>1</td>\n",
       "      <td>0.987781</td>\n",
       "      <td>0.982276</td>\n",
       "      <td>0.909194</td>\n",
       "      <td>0.882833</td>\n",
       "      <td>0.903486</td>\n",
       "      <td>0.875301</td>\n",
       "      <td>0.918571</td>\n",
       "      <td>0.882082</td>\n",
       "      <td>0.946848</td>\n",
       "      <td>0.929896</td>\n",
       "      <td>323.727481</td>\n",
       "      <td>4.191821</td>\n",
       "      <td>0.10</td>\n",
       "      <td>50</td>\n",
       "    </tr>\n",
       "    <tr>\n",
       "      <th>5</th>\n",
       "      <td>6</td>\n",
       "      <td>0.994872</td>\n",
       "      <td>0.992958</td>\n",
       "      <td>0.887916</td>\n",
       "      <td>0.862025</td>\n",
       "      <td>0.886160</td>\n",
       "      <td>0.860207</td>\n",
       "      <td>0.883481</td>\n",
       "      <td>0.859293</td>\n",
       "      <td>0.938338</td>\n",
       "      <td>0.922848</td>\n",
       "      <td>632.175075</td>\n",
       "      <td>7.568961</td>\n",
       "      <td>0.01</td>\n",
       "      <td>150</td>\n",
       "    </tr>\n",
       "    <tr>\n",
       "      <th>4</th>\n",
       "      <td>5</td>\n",
       "      <td>0.995750</td>\n",
       "      <td>0.994197</td>\n",
       "      <td>0.885096</td>\n",
       "      <td>0.858806</td>\n",
       "      <td>0.883708</td>\n",
       "      <td>0.857429</td>\n",
       "      <td>0.877199</td>\n",
       "      <td>0.854515</td>\n",
       "      <td>0.937148</td>\n",
       "      <td>0.921527</td>\n",
       "      <td>429.078661</td>\n",
       "      <td>5.367839</td>\n",
       "      <td>0.01</td>\n",
       "      <td>100</td>\n",
       "    </tr>\n",
       "  </tbody>\n",
       "</table>\n",
       "</div>"
      ],
      "text/plain": [
       "   Iter #  train_recall  test_recall  train_precision  test_precision  \\\n",
       "2       3      0.984830     0.971778         0.936630        0.899051   \n",
       "1       2      0.984443     0.974519         0.927105        0.895178   \n",
       "0       1      0.987781     0.982276         0.909194        0.882833   \n",
       "5       6      0.994872     0.992958         0.887916        0.862025   \n",
       "4       5      0.995750     0.994197         0.885096        0.858806   \n",
       "\n",
       "   train_accuracy  test_accuracy  train_roc_auc  test_roc_auc  train_f1  \\\n",
       "2        0.928844       0.884374       0.954448      0.895756  0.960106   \n",
       "1        0.919116       0.882462       0.942089      0.892911  0.954899   \n",
       "0        0.903486       0.875301       0.918571      0.882082  0.946848   \n",
       "5        0.886160       0.860207       0.883481      0.859293  0.938338   \n",
       "4        0.883708       0.857429       0.877199      0.854515  0.937148   \n",
       "\n",
       "    test_f1    fit_time  score_time  learning_rate  n_estimators  \n",
       "2  0.934000  696.867451    8.126419           0.10           150  \n",
       "1  0.933164  550.661353    5.652469           0.10           100  \n",
       "0  0.929896  323.727481    4.191821           0.10            50  \n",
       "5  0.922848  632.175075    7.568961           0.01           150  \n",
       "4  0.921527  429.078661    5.367839           0.01           100  "
      ]
     },
     "execution_count": 11,
     "metadata": {},
     "output_type": "execute_result"
    }
   ],
   "source": [
    "grid_res = get_summary_grid(grid2)\n",
    "grid_res.sort_values('test_f1', ascending=False).head()"
   ]
  },
  {
   "cell_type": "code",
   "execution_count": 12,
   "metadata": {},
   "outputs": [],
   "source": [
    "sns.set_style(\"whitegrid\")\n",
    "# grid_res.rename({'min_samples_split': 'min_samples'}, axis=1, inplace=True)"
   ]
  },
  {
   "cell_type": "code",
   "execution_count": 24,
   "metadata": {},
   "outputs": [
    {
     "data": {
      "image/png": "[encoded data removed]",
      "text/plain": [
       "<Figure size 648x216 with 3 Axes>"
      ]
     },
     "metadata": {
      "image/png": {
       "height": 213,
       "width": 715
      }
     },
     "output_type": "display_data"
    }
   ],
   "source": [
    "g = sns.FacetGrid(grid_res, col=\"learning_rate\", col_wrap=3, height=3.0)\n",
    "g = g.map(plt.plot, \"n_estimators\", \"test_f1\", marker=\"o\", color='magenta', linewidth=3)\n",
    "g = g.map(plt.plot, \"n_estimators\", \"train_f1\", marker=\"o\", color='orange', linewidth=3)\n",
    "legend_patches = [matplotlib.patches.Patch(color='magenta', label='test_f1'),\n",
    "                 matplotlib.patches.Patch(color='orange', label='train_f1')]\n",
    "plt.legend(handles=legend_patches, loc='center left', bbox_to_anchor=(1,0.5))\n",
    "plt.subplots_adjust(top=0.7)\n",
    "g.fig.suptitle('F1 score for learning_rate', size=20, weight='bold', color='black');"
   ]
  },
  {
   "cell_type": "code",
   "execution_count": 26,
   "metadata": {},
   "outputs": [
    {
     "data": {
      "image/png": "[encoded data removed]",
      "text/plain": [
       "<Figure size 648x216 with 3 Axes>"
      ]
     },
     "metadata": {
      "image/png": {
       "height": 213,
       "width": 722
      }
     },
     "output_type": "display_data"
    }
   ],
   "source": [
    "g = sns.FacetGrid(grid_res, col=\"learning_rate\", col_wrap=3, height=3.0)\n",
    "g = g.map(plt.plot, \"n_estimators\", \"test_roc_auc\", marker=\"o\", \n",
    "          color='magenta', linewidth=3)\n",
    "g = g.map(plt.plot, \"n_estimators\", \"train_roc_auc\", marker=\"o\", \n",
    "          color='orange', linewidth=3)\n",
    "legend_patches = [matplotlib.patches.Patch(color='magenta', label='test_f1'),\n",
    "                 matplotlib.patches.Patch(color='orange', label='train_f1')]\n",
    "plt.legend(handles=legend_patches, loc='center left', bbox_to_anchor=(1,0.5))\n",
    "plt.subplots_adjust(top=0.7)\n",
    "g.fig.suptitle('ROC_AUC score for learning_rate', \n",
    "               size=20, weight='bold', color='black');"
   ]
  },
  {
   "cell_type": "code",
   "execution_count": 58,
   "metadata": {},
   "outputs": [],
   "source": [
    "estimator = grid2.best_estimator_"
   ]
  },
  {
   "cell_type": "markdown",
   "metadata": {},
   "source": [
    "### GridSearch for further regularisation"
   ]
  },
  {
   "cell_type": "code",
   "execution_count": 59,
   "metadata": {},
   "outputs": [],
   "source": [
    "params = {\n",
    "    'reg_alpha':[1e-5, 1e-2, 0.1, 1, 100]\n",
    "}"
   ]
  },
  {
   "cell_type": "code",
   "execution_count": 60,
   "metadata": {},
   "outputs": [],
   "source": [
    "tscv1 = TimeSeriesSplit(n_splits=2)"
   ]
  },
  {
   "cell_type": "code",
   "execution_count": 61,
   "metadata": {},
   "outputs": [],
   "source": [
    "grid3 = GridSearchCV(estimator=estimator,\n",
    "                    param_grid=params,\n",
    "                    scoring={'accuracy', 'precision', 'f1', 'recall', 'roc_auc'},\n",
    "                    refit='f1', # Because we are using multiple evaluation metrics\n",
    "                    cv=tscv1,\n",
    "                    return_train_score=True,\n",
    "                    verbose=2,\n",
    "                    n_jobs=12)"
   ]
  },
  {
   "cell_type": "code",
   "execution_count": null,
   "metadata": {},
   "outputs": [
    {
     "name": "stdout",
     "output_type": "stream",
     "text": [
      "Fitting 2 folds for each of 5 candidates, totalling 10 fits\n"
     ]
    },
    {
     "name": "stderr",
     "output_type": "stream",
     "text": [
      "[Parallel(n_jobs=12)]: Using backend LokyBackend with 12 concurrent workers.\n",
      "[Parallel(n_jobs=12)]: Done   5 out of  10 | elapsed:  8.7min remaining:  8.7min\n"
     ]
    }
   ],
   "source": [
    "grid3.fit(features, labels)"
   ]
  },
  {
   "cell_type": "code",
   "execution_count": 63,
   "metadata": {},
   "outputs": [
    {
     "data": {
      "text/html": [
       "<div>\n",
       "<style scoped>\n",
       "    .dataframe tbody tr th:only-of-type {\n",
       "        vertical-align: middle;\n",
       "    }\n",
       "\n",
       "    .dataframe tbody tr th {\n",
       "        vertical-align: top;\n",
       "    }\n",
       "\n",
       "    .dataframe thead th {\n",
       "        text-align: right;\n",
       "    }\n",
       "</style>\n",
       "<table border=\"1\" class=\"dataframe\">\n",
       "  <thead>\n",
       "    <tr style=\"text-align: right;\">\n",
       "      <th></th>\n",
       "      <th>Iter #</th>\n",
       "      <th>train_f1</th>\n",
       "      <th>test_f1</th>\n",
       "      <th>train_accuracy</th>\n",
       "      <th>test_accuracy</th>\n",
       "      <th>train_roc_auc</th>\n",
       "      <th>test_roc_auc</th>\n",
       "      <th>train_precision</th>\n",
       "      <th>test_precision</th>\n",
       "      <th>train_recall</th>\n",
       "      <th>test_recall</th>\n",
       "      <th>fit_time</th>\n",
       "      <th>score_time</th>\n",
       "      <th>reg_alpha</th>\n",
       "    </tr>\n",
       "  </thead>\n",
       "  <tbody>\n",
       "    <tr>\n",
       "      <th>1</th>\n",
       "      <td>2</td>\n",
       "      <td>0.958372</td>\n",
       "      <td>0.931681</td>\n",
       "      <td>0.925637</td>\n",
       "      <td>0.881026</td>\n",
       "      <td>0.951325</td>\n",
       "      <td>0.897036</td>\n",
       "      <td>0.933865</td>\n",
       "      <td>0.896051</td>\n",
       "      <td>0.984211</td>\n",
       "      <td>0.970264</td>\n",
       "      <td>687.025945</td>\n",
       "      <td>15.191852</td>\n",
       "      <td>0.01000</td>\n",
       "    </tr>\n",
       "    <tr>\n",
       "      <th>0</th>\n",
       "      <td>1</td>\n",
       "      <td>0.958381</td>\n",
       "      <td>0.931616</td>\n",
       "      <td>0.925646</td>\n",
       "      <td>0.880909</td>\n",
       "      <td>0.951401</td>\n",
       "      <td>0.897164</td>\n",
       "      <td>0.933790</td>\n",
       "      <td>0.895951</td>\n",
       "      <td>0.984312</td>\n",
       "      <td>0.970239</td>\n",
       "      <td>686.995831</td>\n",
       "      <td>15.469072</td>\n",
       "      <td>0.00001</td>\n",
       "    </tr>\n",
       "    <tr>\n",
       "      <th>2</th>\n",
       "      <td>3</td>\n",
       "      <td>0.958353</td>\n",
       "      <td>0.931600</td>\n",
       "      <td>0.925610</td>\n",
       "      <td>0.880891</td>\n",
       "      <td>0.951599</td>\n",
       "      <td>0.896668</td>\n",
       "      <td>0.933955</td>\n",
       "      <td>0.896011</td>\n",
       "      <td>0.984070</td>\n",
       "      <td>0.970132</td>\n",
       "      <td>686.297859</td>\n",
       "      <td>15.208701</td>\n",
       "      <td>0.10000</td>\n",
       "    </tr>\n",
       "    <tr>\n",
       "      <th>3</th>\n",
       "      <td>4</td>\n",
       "      <td>0.957913</td>\n",
       "      <td>0.931438</td>\n",
       "      <td>0.924804</td>\n",
       "      <td>0.880650</td>\n",
       "      <td>0.949969</td>\n",
       "      <td>0.897645</td>\n",
       "      <td>0.933302</td>\n",
       "      <td>0.896142</td>\n",
       "      <td>0.983868</td>\n",
       "      <td>0.969628</td>\n",
       "      <td>688.242452</td>\n",
       "      <td>15.541379</td>\n",
       "      <td>1.00000</td>\n",
       "    </tr>\n",
       "    <tr>\n",
       "      <th>4</th>\n",
       "      <td>5</td>\n",
       "      <td>0.943810</td>\n",
       "      <td>0.927940</td>\n",
       "      <td>0.898186</td>\n",
       "      <td>0.873129</td>\n",
       "      <td>0.894848</td>\n",
       "      <td>0.886158</td>\n",
       "      <td>0.908082</td>\n",
       "      <td>0.883615</td>\n",
       "      <td>0.982466</td>\n",
       "      <td>0.976950</td>\n",
       "      <td>579.050534</td>\n",
       "      <td>10.520524</td>\n",
       "      <td>100.00000</td>\n",
       "    </tr>\n",
       "  </tbody>\n",
       "</table>\n",
       "</div>"
      ],
      "text/plain": [
       "   Iter #  train_f1   test_f1  train_accuracy  test_accuracy  train_roc_auc  \\\n",
       "1       2  0.958372  0.931681        0.925637       0.881026       0.951325   \n",
       "0       1  0.958381  0.931616        0.925646       0.880909       0.951401   \n",
       "2       3  0.958353  0.931600        0.925610       0.880891       0.951599   \n",
       "3       4  0.957913  0.931438        0.924804       0.880650       0.949969   \n",
       "4       5  0.943810  0.927940        0.898186       0.873129       0.894848   \n",
       "\n",
       "   test_roc_auc  train_precision  test_precision  train_recall  test_recall  \\\n",
       "1      0.897036         0.933865        0.896051      0.984211     0.970264   \n",
       "0      0.897164         0.933790        0.895951      0.984312     0.970239   \n",
       "2      0.896668         0.933955        0.896011      0.984070     0.970132   \n",
       "3      0.897645         0.933302        0.896142      0.983868     0.969628   \n",
       "4      0.886158         0.908082        0.883615      0.982466     0.976950   \n",
       "\n",
       "     fit_time  score_time  reg_alpha  \n",
       "1  687.025945   15.191852    0.01000  \n",
       "0  686.995831   15.469072    0.00001  \n",
       "2  686.297859   15.208701    0.10000  \n",
       "3  688.242452   15.541379    1.00000  \n",
       "4  579.050534   10.520524  100.00000  "
      ]
     },
     "execution_count": 63,
     "metadata": {},
     "output_type": "execute_result"
    }
   ],
   "source": [
    "get_summary_grid(grid3).sort_values('test_f1', ascending=False).head()"
   ]
  },
  {
   "cell_type": "markdown",
   "metadata": {},
   "source": [
    "The `grid2` best estimator is performing better than `grid3` in terms of `F1 score` probably because of excessive regularisation but may be it would perform better on the test dataset. We shall see.  "
   ]
  },
  {
   "cell_type": "markdown",
   "metadata": {},
   "source": [
    "### TFIDF W2V"
   ]
  },
  {
   "cell_type": "code",
   "execution_count": 6,
   "metadata": {},
   "outputs": [],
   "source": [
    "Dtrain_TFIDF_w2v = pd.read_csv('../Amazon_Review_commons/TFIDF_w2v_train.csv')\n",
    "Dtest_TFIDF_w2v = pd.read_csv('../Amazon_Review_commons/TFIDF_w2v_test.csv')"
   ]
  },
  {
   "cell_type": "code",
   "execution_count": 7,
   "metadata": {},
   "outputs": [
    {
     "name": "stdout",
     "output_type": "stream",
     "text": [
      "(254882, 101)\n",
      "(109236, 101)\n"
     ]
    }
   ],
   "source": [
    "print(Dtrain_TFIDF_w2v.shape)\n",
    "print(Dtest_TFIDF_w2v.shape)"
   ]
  },
  {
   "cell_type": "code",
   "execution_count": 8,
   "metadata": {},
   "outputs": [],
   "source": [
    "yTrain_tfidf_w2v = Dtrain_TFIDF_w2v.Label\n",
    "yTest_tfidf_w2v = Dtest_TFIDF_w2v.Label\n",
    "\n",
    "Dtrain_TFIDF_w2v.drop(['Label'], inplace=True, axis=1)\n",
    "Dtest_TFIDF_w2v.drop(['Label'], inplace=True, axis=1)"
   ]
  },
  {
   "cell_type": "code",
   "execution_count": 14,
   "metadata": {},
   "outputs": [],
   "source": [
    "estimator = RandomForestClassifier(random_state=42, n_estimators=50, n_jobs=-1, class_weight='balanced')"
   ]
  },
  {
   "cell_type": "code",
   "execution_count": 15,
   "metadata": {},
   "outputs": [],
   "source": [
    "params = {\n",
    "    'max_depth': [10, 12, 15],  # Should be large for high variance\n",
    "    'min_samples_split': [2, 4, 6]  # Should be fairly low for high variance\n",
    "}"
   ]
  },
  {
   "cell_type": "code",
   "execution_count": 16,
   "metadata": {},
   "outputs": [],
   "source": [
    "grid = GridSearchCV(estimator=estimator,\n",
    "                    param_grid=params,\n",
    "                    scoring={'accuracy', 'precision', 'f1', 'recall', 'roc_auc'},\n",
    "                    refit='f1', # Because we are using multiple evaluation metrics\n",
    "                    cv=tscv,\n",
    "                    return_train_score=True,\n",
    "                    verbose=2,\n",
    "                    n_jobs=-1)"
   ]
  },
  {
   "cell_type": "code",
   "execution_count": 17,
   "metadata": {},
   "outputs": [],
   "source": [
    "features = Dtrain_TFIDF_w2v\n",
    "labels = yTrain_tfidf_w2v.apply(lambda x: 1 if x == 'positive' else 0).values"
   ]
  },
  {
   "cell_type": "code",
   "execution_count": null,
   "metadata": {},
   "outputs": [],
   "source": [
    "grid.fit(features, labels)"
   ]
  },
  {
   "cell_type": "code",
   "execution_count": 19,
   "metadata": {},
   "outputs": [
    {
     "data": {
      "text/html": [
       "<div>\n",
       "<style scoped>\n",
       "    .dataframe tbody tr th:only-of-type {\n",
       "        vertical-align: middle;\n",
       "    }\n",
       "\n",
       "    .dataframe tbody tr th {\n",
       "        vertical-align: top;\n",
       "    }\n",
       "\n",
       "    .dataframe thead th {\n",
       "        text-align: right;\n",
       "    }\n",
       "</style>\n",
       "<table border=\"1\" class=\"dataframe\">\n",
       "  <thead>\n",
       "    <tr style=\"text-align: right;\">\n",
       "      <th></th>\n",
       "      <th>Iter #</th>\n",
       "      <th>train_roc_auc</th>\n",
       "      <th>test_roc_auc</th>\n",
       "      <th>train_f1</th>\n",
       "      <th>test_f1</th>\n",
       "      <th>train_accuracy</th>\n",
       "      <th>test_accuracy</th>\n",
       "      <th>train_recall</th>\n",
       "      <th>test_recall</th>\n",
       "      <th>train_precision</th>\n",
       "      <th>test_precision</th>\n",
       "      <th>fit_time</th>\n",
       "      <th>score_time</th>\n",
       "      <th>max_depth</th>\n",
       "      <th>min_samples_split</th>\n",
       "    </tr>\n",
       "  </thead>\n",
       "  <tbody>\n",
       "    <tr>\n",
       "      <th>6</th>\n",
       "      <td>7</td>\n",
       "      <td>0.994720</td>\n",
       "      <td>0.871280</td>\n",
       "      <td>0.984901</td>\n",
       "      <td>0.925792</td>\n",
       "      <td>0.974196</td>\n",
       "      <td>0.872406</td>\n",
       "      <td>0.972381</td>\n",
       "      <td>0.946508</td>\n",
       "      <td>0.997789</td>\n",
       "      <td>0.906139</td>\n",
       "      <td>81.520724</td>\n",
       "      <td>5.925781</td>\n",
       "      <td>15</td>\n",
       "      <td>2</td>\n",
       "    </tr>\n",
       "    <tr>\n",
       "      <th>7</th>\n",
       "      <td>8</td>\n",
       "      <td>0.994492</td>\n",
       "      <td>0.871168</td>\n",
       "      <td>0.984466</td>\n",
       "      <td>0.925270</td>\n",
       "      <td>0.973462</td>\n",
       "      <td>0.871648</td>\n",
       "      <td>0.971773</td>\n",
       "      <td>0.945075</td>\n",
       "      <td>0.997539</td>\n",
       "      <td>0.906455</td>\n",
       "      <td>69.195276</td>\n",
       "      <td>4.834975</td>\n",
       "      <td>15</td>\n",
       "      <td>4</td>\n",
       "    </tr>\n",
       "    <tr>\n",
       "      <th>8</th>\n",
       "      <td>9</td>\n",
       "      <td>0.994194</td>\n",
       "      <td>0.871761</td>\n",
       "      <td>0.984104</td>\n",
       "      <td>0.925133</td>\n",
       "      <td>0.972844</td>\n",
       "      <td>0.871549</td>\n",
       "      <td>0.971272</td>\n",
       "      <td>0.944036</td>\n",
       "      <td>0.997322</td>\n",
       "      <td>0.907158</td>\n",
       "      <td>55.332423</td>\n",
       "      <td>3.733296</td>\n",
       "      <td>15</td>\n",
       "      <td>6</td>\n",
       "    </tr>\n",
       "    <tr>\n",
       "      <th>3</th>\n",
       "      <td>4</td>\n",
       "      <td>0.977071</td>\n",
       "      <td>0.871820</td>\n",
       "      <td>0.959736</td>\n",
       "      <td>0.913298</td>\n",
       "      <td>0.932351</td>\n",
       "      <td>0.856276</td>\n",
       "      <td>0.932945</td>\n",
       "      <td>0.902522</td>\n",
       "      <td>0.988289</td>\n",
       "      <td>0.924928</td>\n",
       "      <td>79.725405</td>\n",
       "      <td>5.751017</td>\n",
       "      <td>12</td>\n",
       "      <td>2</td>\n",
       "    </tr>\n",
       "    <tr>\n",
       "      <th>4</th>\n",
       "      <td>5</td>\n",
       "      <td>0.976525</td>\n",
       "      <td>0.871960</td>\n",
       "      <td>0.959061</td>\n",
       "      <td>0.912954</td>\n",
       "      <td>0.931245</td>\n",
       "      <td>0.855819</td>\n",
       "      <td>0.931931</td>\n",
       "      <td>0.901616</td>\n",
       "      <td>0.988001</td>\n",
       "      <td>0.925212</td>\n",
       "      <td>80.995074</td>\n",
       "      <td>6.077158</td>\n",
       "      <td>12</td>\n",
       "      <td>4</td>\n",
       "    </tr>\n",
       "  </tbody>\n",
       "</table>\n",
       "</div>"
      ],
      "text/plain": [
       "   Iter #  train_roc_auc  test_roc_auc  train_f1   test_f1  train_accuracy  \\\n",
       "6       7       0.994720      0.871280  0.984901  0.925792        0.974196   \n",
       "7       8       0.994492      0.871168  0.984466  0.925270        0.973462   \n",
       "8       9       0.994194      0.871761  0.984104  0.925133        0.972844   \n",
       "3       4       0.977071      0.871820  0.959736  0.913298        0.932351   \n",
       "4       5       0.976525      0.871960  0.959061  0.912954        0.931245   \n",
       "\n",
       "   test_accuracy  train_recall  test_recall  train_precision  test_precision  \\\n",
       "6       0.872406      0.972381     0.946508         0.997789        0.906139   \n",
       "7       0.871648      0.971773     0.945075         0.997539        0.906455   \n",
       "8       0.871549      0.971272     0.944036         0.997322        0.907158   \n",
       "3       0.856276      0.932945     0.902522         0.988289        0.924928   \n",
       "4       0.855819      0.931931     0.901616         0.988001        0.925212   \n",
       "\n",
       "    fit_time  score_time  max_depth  min_samples_split  \n",
       "6  81.520724    5.925781         15                  2  \n",
       "7  69.195276    4.834975         15                  4  \n",
       "8  55.332423    3.733296         15                  6  \n",
       "3  79.725405    5.751017         12                  2  \n",
       "4  80.995074    6.077158         12                  4  "
      ]
     },
     "execution_count": 19,
     "metadata": {},
     "output_type": "execute_result"
    }
   ],
   "source": [
    "get_summary_grid(grid).sort_values('test_f1', ascending=False).head()"
   ]
  },
  {
   "cell_type": "code",
   "execution_count": 20,
   "metadata": {},
   "outputs": [],
   "source": [
    "estimator = grid.best_estimator_"
   ]
  },
  {
   "cell_type": "code",
   "execution_count": 21,
   "metadata": {},
   "outputs": [],
   "source": [
    "params = {\n",
    "    'max_depth': [15, 18, 20],  # Should be large for high variance\n",
    "    'min_samples_split': [2]\n",
    "}"
   ]
  },
  {
   "cell_type": "code",
   "execution_count": 22,
   "metadata": {},
   "outputs": [],
   "source": [
    "grid2 = GridSearchCV(estimator=estimator,\n",
    "                    param_grid=params,\n",
    "                    scoring={'accuracy', 'precision', 'f1', 'recall', 'roc_auc'},\n",
    "                    refit='f1', # Because we are using multiple evaluation metrics\n",
    "                    cv=tscv,\n",
    "                    return_train_score=True,\n",
    "                    verbose=2,\n",
    "                    n_jobs=-1)"
   ]
  },
  {
   "cell_type": "code",
   "execution_count": 23,
   "metadata": {},
   "outputs": [
    {
     "name": "stdout",
     "output_type": "stream",
     "text": [
      "Fitting 5 folds for each of 3 candidates, totalling 15 fits\n"
     ]
    },
    {
     "name": "stderr",
     "output_type": "stream",
     "text": [
      "[Parallel(n_jobs=-1)]: Using backend LokyBackend with 12 concurrent workers.\n",
      "[Parallel(n_jobs=-1)]: Done   8 out of  15 | elapsed:  2.0min remaining:  1.7min\n",
      "[Parallel(n_jobs=-1)]: Done  15 out of  15 | elapsed:  2.6min finished\n"
     ]
    },
    {
     "data": {
      "text/plain": [
       "GridSearchCV(cv=TimeSeriesSplit(max_train_size=None, n_splits=5),\n",
       "       error_score='raise-deprecating',\n",
       "       estimator=RandomForestClassifier(bootstrap=True, class_weight='balanced',\n",
       "            criterion='gini', max_depth=15, max_features='auto',\n",
       "            max_leaf_nodes=None, min_impurity_decrease=0.0,\n",
       "            min_impurity_split=None, min_samples_leaf=1,\n",
       "            min_samples_split=2, min_weight_fraction_leaf=0.0,\n",
       "            n_estimators=50, n_jobs=-1, oob_score=False, random_state=42,\n",
       "            verbose=0, warm_start=False),\n",
       "       fit_params=None, iid='warn', n_jobs=-1,\n",
       "       param_grid={'max_depth': [15, 18, 20], 'min_samples_split': [2]},\n",
       "       pre_dispatch='2*n_jobs', refit='f1', return_train_score=True,\n",
       "       scoring={'roc_auc', 'f1', 'accuracy', 'recall', 'precision'},\n",
       "       verbose=2)"
      ]
     },
     "execution_count": 23,
     "metadata": {},
     "output_type": "execute_result"
    }
   ],
   "source": [
    "grid2.fit(features, labels)"
   ]
  },
  {
   "cell_type": "code",
   "execution_count": 24,
   "metadata": {},
   "outputs": [
    {
     "data": {
      "text/html": [
       "<div>\n",
       "<style scoped>\n",
       "    .dataframe tbody tr th:only-of-type {\n",
       "        vertical-align: middle;\n",
       "    }\n",
       "\n",
       "    .dataframe tbody tr th {\n",
       "        vertical-align: top;\n",
       "    }\n",
       "\n",
       "    .dataframe thead th {\n",
       "        text-align: right;\n",
       "    }\n",
       "</style>\n",
       "<table border=\"1\" class=\"dataframe\">\n",
       "  <thead>\n",
       "    <tr style=\"text-align: right;\">\n",
       "      <th></th>\n",
       "      <th>Iter #</th>\n",
       "      <th>train_roc_auc</th>\n",
       "      <th>test_roc_auc</th>\n",
       "      <th>train_f1</th>\n",
       "      <th>test_f1</th>\n",
       "      <th>train_accuracy</th>\n",
       "      <th>test_accuracy</th>\n",
       "      <th>train_recall</th>\n",
       "      <th>test_recall</th>\n",
       "      <th>train_precision</th>\n",
       "      <th>test_precision</th>\n",
       "      <th>fit_time</th>\n",
       "      <th>score_time</th>\n",
       "      <th>max_depth</th>\n",
       "      <th>min_samples_split</th>\n",
       "    </tr>\n",
       "  </thead>\n",
       "  <tbody>\n",
       "    <tr>\n",
       "      <th>2</th>\n",
       "      <td>3</td>\n",
       "      <td>0.999149</td>\n",
       "      <td>0.868094</td>\n",
       "      <td>0.996032</td>\n",
       "      <td>0.927871</td>\n",
       "      <td>0.993150</td>\n",
       "      <td>0.872646</td>\n",
       "      <td>0.992428</td>\n",
       "      <td>0.973189</td>\n",
       "      <td>0.999667</td>\n",
       "      <td>0.886599</td>\n",
       "      <td>75.514496</td>\n",
       "      <td>4.639139</td>\n",
       "      <td>20</td>\n",
       "      <td>2</td>\n",
       "    </tr>\n",
       "    <tr>\n",
       "      <th>1</th>\n",
       "      <td>2</td>\n",
       "      <td>0.998346</td>\n",
       "      <td>0.869320</td>\n",
       "      <td>0.993458</td>\n",
       "      <td>0.927746</td>\n",
       "      <td>0.988736</td>\n",
       "      <td>0.873385</td>\n",
       "      <td>0.987470</td>\n",
       "      <td>0.965867</td>\n",
       "      <td>0.999530</td>\n",
       "      <td>0.892566</td>\n",
       "      <td>88.535750</td>\n",
       "      <td>5.680300</td>\n",
       "      <td>18</td>\n",
       "      <td>2</td>\n",
       "    </tr>\n",
       "    <tr>\n",
       "      <th>0</th>\n",
       "      <td>1</td>\n",
       "      <td>0.994720</td>\n",
       "      <td>0.871280</td>\n",
       "      <td>0.984901</td>\n",
       "      <td>0.925792</td>\n",
       "      <td>0.974196</td>\n",
       "      <td>0.872406</td>\n",
       "      <td>0.972381</td>\n",
       "      <td>0.946508</td>\n",
       "      <td>0.997789</td>\n",
       "      <td>0.906139</td>\n",
       "      <td>87.325002</td>\n",
       "      <td>5.539156</td>\n",
       "      <td>15</td>\n",
       "      <td>2</td>\n",
       "    </tr>\n",
       "  </tbody>\n",
       "</table>\n",
       "</div>"
      ],
      "text/plain": [
       "   Iter #  train_roc_auc  test_roc_auc  train_f1   test_f1  train_accuracy  \\\n",
       "2       3       0.999149      0.868094  0.996032  0.927871        0.993150   \n",
       "1       2       0.998346      0.869320  0.993458  0.927746        0.988736   \n",
       "0       1       0.994720      0.871280  0.984901  0.925792        0.974196   \n",
       "\n",
       "   test_accuracy  train_recall  test_recall  train_precision  test_precision  \\\n",
       "2       0.872646      0.992428     0.973189         0.999667        0.886599   \n",
       "1       0.873385      0.987470     0.965867         0.999530        0.892566   \n",
       "0       0.872406      0.972381     0.946508         0.997789        0.906139   \n",
       "\n",
       "    fit_time  score_time  max_depth  min_samples_split  \n",
       "2  75.514496    4.639139         20                  2  \n",
       "1  88.535750    5.680300         18                  2  \n",
       "0  87.325002    5.539156         15                  2  "
      ]
     },
     "execution_count": 24,
     "metadata": {},
     "output_type": "execute_result"
    }
   ],
   "source": [
    "get_summary_grid(grid2).sort_values('test_f1', ascending=False).head()"
   ]
  },
  {
   "cell_type": "code",
   "execution_count": 25,
   "metadata": {},
   "outputs": [],
   "source": [
    "estimator = grid2.best_estimator_"
   ]
  },
  {
   "cell_type": "code",
   "execution_count": 26,
   "metadata": {},
   "outputs": [],
   "source": [
    "params = {\n",
    "    'n_estimators': [50, 100, 150, 200],  # Should be fairly large to decrese the overall variance\n",
    "}"
   ]
  },
  {
   "cell_type": "code",
   "execution_count": 27,
   "metadata": {},
   "outputs": [],
   "source": [
    "grid3 = GridSearchCV(estimator=estimator,\n",
    "                    param_grid=params,\n",
    "                    scoring={'accuracy', 'precision', 'f1', 'recall', 'roc_auc'},\n",
    "                    refit='f1', # Because we are using multiple evaluation metrics\n",
    "                    cv=tscv,\n",
    "                    return_train_score=True,\n",
    "                    verbose=2,\n",
    "                    n_jobs=-1)"
   ]
  },
  {
   "cell_type": "code",
   "execution_count": 28,
   "metadata": {},
   "outputs": [
    {
     "name": "stdout",
     "output_type": "stream",
     "text": [
      "Fitting 5 folds for each of 4 candidates, totalling 20 fits\n"
     ]
    },
    {
     "name": "stderr",
     "output_type": "stream",
     "text": [
      "[Parallel(n_jobs=-1)]: Using backend LokyBackend with 12 concurrent workers.\n",
      "[Parallel(n_jobs=-1)]: Done   8 out of  20 | elapsed:  3.8min remaining:  5.8min\n",
      "[Parallel(n_jobs=-1)]: Done  20 out of  20 | elapsed:  8.6min finished\n"
     ]
    },
    {
     "data": {
      "text/plain": [
       "GridSearchCV(cv=TimeSeriesSplit(max_train_size=None, n_splits=5),\n",
       "       error_score='raise-deprecating',\n",
       "       estimator=RandomForestClassifier(bootstrap=True, class_weight='balanced',\n",
       "            criterion='gini', max_depth=20, max_features='auto',\n",
       "            max_leaf_nodes=None, min_impurity_decrease=0.0,\n",
       "            min_impurity_split=None, min_samples_leaf=1,\n",
       "            min_samples_split=2, min_weight_fraction_leaf=0.0,\n",
       "            n_estimators=50, n_jobs=-1, oob_score=False, random_state=42,\n",
       "            verbose=0, warm_start=False),\n",
       "       fit_params=None, iid='warn', n_jobs=-1,\n",
       "       param_grid={'n_estimators': [50, 100, 150, 200]},\n",
       "       pre_dispatch='2*n_jobs', refit='f1', return_train_score=True,\n",
       "       scoring={'roc_auc', 'f1', 'accuracy', 'recall', 'precision'},\n",
       "       verbose=2)"
      ]
     },
     "execution_count": 28,
     "metadata": {},
     "output_type": "execute_result"
    }
   ],
   "source": [
    "grid3.fit(features, labels)"
   ]
  },
  {
   "cell_type": "code",
   "execution_count": 58,
   "metadata": {},
   "outputs": [
    {
     "data": {
      "text/html": [
       "<div>\n",
       "<style scoped>\n",
       "    .dataframe tbody tr th:only-of-type {\n",
       "        vertical-align: middle;\n",
       "    }\n",
       "\n",
       "    .dataframe tbody tr th {\n",
       "        vertical-align: top;\n",
       "    }\n",
       "\n",
       "    .dataframe thead th {\n",
       "        text-align: right;\n",
       "    }\n",
       "</style>\n",
       "<table border=\"1\" class=\"dataframe\">\n",
       "  <thead>\n",
       "    <tr style=\"text-align: right;\">\n",
       "      <th></th>\n",
       "      <th>Iter #</th>\n",
       "      <th>train_roc_auc</th>\n",
       "      <th>test_roc_auc</th>\n",
       "      <th>train_f1</th>\n",
       "      <th>test_f1</th>\n",
       "      <th>train_accuracy</th>\n",
       "      <th>test_accuracy</th>\n",
       "      <th>train_recall</th>\n",
       "      <th>test_recall</th>\n",
       "      <th>train_precision</th>\n",
       "      <th>test_precision</th>\n",
       "      <th>fit_time</th>\n",
       "      <th>score_time</th>\n",
       "      <th>n_estimators</th>\n",
       "    </tr>\n",
       "  </thead>\n",
       "  <tbody>\n",
       "    <tr>\n",
       "      <th>3</th>\n",
       "      <td>4</td>\n",
       "      <td>0.999429</td>\n",
       "      <td>0.878869</td>\n",
       "      <td>0.996627</td>\n",
       "      <td>0.928505</td>\n",
       "      <td>0.994180</td>\n",
       "      <td>0.873540</td>\n",
       "      <td>0.993282</td>\n",
       "      <td>0.975510</td>\n",
       "      <td>0.999999</td>\n",
       "      <td>0.885836</td>\n",
       "      <td>221.269544</td>\n",
       "      <td>9.807977</td>\n",
       "      <td>200</td>\n",
       "    </tr>\n",
       "    <tr>\n",
       "      <th>2</th>\n",
       "      <td>3</td>\n",
       "      <td>0.999393</td>\n",
       "      <td>0.877650</td>\n",
       "      <td>0.996586</td>\n",
       "      <td>0.928420</td>\n",
       "      <td>0.994109</td>\n",
       "      <td>0.873423</td>\n",
       "      <td>0.993209</td>\n",
       "      <td>0.975175</td>\n",
       "      <td>0.999991</td>\n",
       "      <td>0.885958</td>\n",
       "      <td>241.445727</td>\n",
       "      <td>11.812104</td>\n",
       "      <td>150</td>\n",
       "    </tr>\n",
       "    <tr>\n",
       "      <th>1</th>\n",
       "      <td>2</td>\n",
       "      <td>0.999338</td>\n",
       "      <td>0.875369</td>\n",
       "      <td>0.996443</td>\n",
       "      <td>0.928412</td>\n",
       "      <td>0.993861</td>\n",
       "      <td>0.873470</td>\n",
       "      <td>0.992940</td>\n",
       "      <td>0.974687</td>\n",
       "      <td>0.999975</td>\n",
       "      <td>0.886345</td>\n",
       "      <td>194.669477</td>\n",
       "      <td>11.291423</td>\n",
       "      <td>100</td>\n",
       "    </tr>\n",
       "    <tr>\n",
       "      <th>0</th>\n",
       "      <td>1</td>\n",
       "      <td>0.999149</td>\n",
       "      <td>0.868094</td>\n",
       "      <td>0.996032</td>\n",
       "      <td>0.927871</td>\n",
       "      <td>0.993150</td>\n",
       "      <td>0.872646</td>\n",
       "      <td>0.992428</td>\n",
       "      <td>0.973189</td>\n",
       "      <td>0.999667</td>\n",
       "      <td>0.886599</td>\n",
       "      <td>109.141599</td>\n",
       "      <td>8.063247</td>\n",
       "      <td>50</td>\n",
       "    </tr>\n",
       "  </tbody>\n",
       "</table>\n",
       "</div>"
      ],
      "text/plain": [
       "   Iter #  train_roc_auc  test_roc_auc  train_f1   test_f1  train_accuracy  \\\n",
       "3       4       0.999429      0.878869  0.996627  0.928505        0.994180   \n",
       "2       3       0.999393      0.877650  0.996586  0.928420        0.994109   \n",
       "1       2       0.999338      0.875369  0.996443  0.928412        0.993861   \n",
       "0       1       0.999149      0.868094  0.996032  0.927871        0.993150   \n",
       "\n",
       "   test_accuracy  train_recall  test_recall  train_precision  test_precision  \\\n",
       "3       0.873540      0.993282     0.975510         0.999999        0.885836   \n",
       "2       0.873423      0.993209     0.975175         0.999991        0.885958   \n",
       "1       0.873470      0.992940     0.974687         0.999975        0.886345   \n",
       "0       0.872646      0.992428     0.973189         0.999667        0.886599   \n",
       "\n",
       "     fit_time  score_time  n_estimators  \n",
       "3  221.269544    9.807977           200  \n",
       "2  241.445727   11.812104           150  \n",
       "1  194.669477   11.291423           100  \n",
       "0  109.141599    8.063247            50  "
      ]
     },
     "execution_count": 58,
     "metadata": {},
     "output_type": "execute_result"
    }
   ],
   "source": [
    "grid_res = get_summary_grid(grid3)\n",
    "grid_res.sort_values('test_f1', ascending=False).head()"
   ]
  },
  {
   "cell_type": "code",
   "execution_count": 62,
   "metadata": {},
   "outputs": [],
   "source": [
    "gs = grid_res.melt(id_vars=['n_estimators'], value_vars=['test_f1', 'train_f1', \n",
    "                                                         'train_roc_auc', 'test_roc_auc'])\n",
    "\n",
    "gs['type'] = gs.variable.apply(lambda x: 'f1' if 'f1' in x else 'roc_auc')"
   ]
  },
  {
   "cell_type": "code",
   "execution_count": 63,
   "metadata": {},
   "outputs": [
    {
     "data": {
      "image/png": "[encoded data removed]",
      "text/plain": [
       "<Figure size 794.2x432 with 2 Axes>"
      ]
     },
     "metadata": {
      "image/png": {
       "height": 425,
       "width": 784
      },
      "needs_background": "light"
     },
     "output_type": "display_data"
    }
   ],
   "source": [
    "g = sns.relplot(x=\"n_estimators\", y=\"value\",\n",
    "            hue=\"variable\", col='type',\n",
    "            color=['orange', 'teal'], data=gs, kind='line',\n",
    "            height=6, aspect=0.8, lw=2, marker='o'); \n",
    "plt.subplots_adjust(top=0.8)\n",
    "g.fig.suptitle('F1 score as estimator increses', size=20, weight='bold');"
   ]
  },
  {
   "cell_type": "markdown",
   "metadata": {},
   "source": [
    "The high differenence in the test and training score clearly indicates the overfitting and this means we need more `n_estimators` to reduce the overfitting. Let's incresse the `n_estomators` and see what happens"
   ]
  },
  {
   "cell_type": "markdown",
   "metadata": {},
   "source": [
    "## Reporting on the test data"
   ]
  },
  {
   "cell_type": "code",
   "execution_count": 64,
   "metadata": {},
   "outputs": [
    {
     "name": "stdout",
     "output_type": "stream",
     "text": [
      "BOW - LightGBM.ipynb   notebook.tex\toutput_54_0.png  xgb_grid2.grid\r\n",
      "bow_lightgbm.model     output_24_0.png\trf_grid3.grid\t xgb_grid3.grid\r\n",
      "GBDT + RF - W2V.ipynb  output_25_0.png\trf_grid.grid\t xgb_grid.grid\r\n"
     ]
    }
   ],
   "source": [
    "!ls"
   ]
  },
  {
   "cell_type": "code",
   "execution_count": 67,
   "metadata": {},
   "outputs": [],
   "source": [
    "clf_avg_w2v = joblib.load('xgb_grid3.grid').best_estimator_\n",
    "clf_tfidf_w2v = joblib.load('rf_grid3.grid').best_estimator_\n",
    "clf_bow = joblib.load('bow_lightgbm.model')"
   ]
  },
  {
   "cell_type": "code",
   "execution_count": 68,
   "metadata": {},
   "outputs": [],
   "source": [
    "xTest_avg_w2v = Dtest_Avg_w2v\n",
    "actuals_avg_w2v = yTest_avg_w2v.apply(lambda x: 1 if x == 'positive' else 0).values\n",
    "\n",
    "xTest_tfidf_w2v = Dtest_TFIDF_w2v\n",
    "actuals_tfidf_w2v = yTest_tfidf_w2v.apply(lambda x: 1 if x == 'positive' else 0).values\n",
    "\n",
    "Dtest_bow = sparse.load_npz('../Amazon_Review_commons/BOW_test.npz')\n",
    "xTest_bow = Dtest_bow.astype('float64')\n",
    "Dtest = pd.read_csv('../Amazon_Review_commons/Dtest.csv')\n",
    "yTest_bow = Dtest.Polarity.apply(lambda x: 1 if x == 'positive' else 0).values\n",
    "actuals_bow = yTest_bow.astype('float64')"
   ]
  },
  {
   "cell_type": "code",
   "execution_count": 69,
   "metadata": {},
   "outputs": [],
   "source": [
    "preds_avg_w2v = clf_avg_w2v.predict(xTest_avg_w2v)\n",
    "preds_tfidf_w2v = clf_tfidf_w2v.predict(xTest_tfidf_w2v)\n",
    "preds_bow = clf_bow.predict(xTest_bow)"
   ]
  },
  {
   "cell_type": "code",
   "execution_count": 70,
   "metadata": {},
   "outputs": [],
   "source": [
    "from sklearn.metrics import (\n",
    "    accuracy_score,\n",
    "    precision_score,\n",
    "    recall_score,\n",
    "    f1_score,\n",
    "    roc_auc_score\n",
    ")"
   ]
  },
  {
   "cell_type": "code",
   "execution_count": 71,
   "metadata": {},
   "outputs": [],
   "source": [
    "acs_avg_w2v = round(accuracy_score(actuals_avg_w2v, preds_avg_w2v), 5)\n",
    "acs_tfidf_w2v = round(accuracy_score(actuals_tfidf_w2v, preds_tfidf_w2v), 5)\n",
    "acs_bow = round(accuracy_score(actuals_bow, preds_bow), 5)\n",
    "\n",
    "pre_avg_w2v = round(precision_score(actuals_avg_w2v, preds_avg_w2v), 5)\n",
    "pre_tfidf_w2v = round(precision_score(actuals_tfidf_w2v, preds_tfidf_w2v), 5)\n",
    "pre_bow = round(precision_score(actuals_bow, preds_bow), 5)\n",
    "\n",
    "rec_avg_w2v = round(recall_score(actuals_avg_w2v, preds_avg_w2v), 5)\n",
    "rec_tfidf_w2v = round(recall_score(actuals_tfidf_w2v, preds_tfidf_w2v), 5)\n",
    "rec_bow = round(recall_score(actuals_bow, preds_bow), 5)\n",
    "\n",
    "f1_avg_w2v = round(f1_score(actuals_avg_w2v, preds_avg_w2v), 5)\n",
    "f1_tfidf_w2v = round(f1_score(actuals_tfidf_w2v, preds_tfidf_w2v), 5)\n",
    "f1_bow = round(f1_score(actuals_bow, preds_bow), 5)\n",
    "\n",
    "auc_avg_w2v = round(roc_auc_score(actuals_avg_w2v, preds_avg_w2v), 5)\n",
    "auc_tfidf_w2v = round(roc_auc_score(actuals_tfidf_w2v, preds_tfidf_w2v), 5)\n",
    "auc_bow = round(roc_auc_score(actuals_bow, preds_bow), 5)"
   ]
  },
  {
   "cell_type": "code",
   "execution_count": 72,
   "metadata": {},
   "outputs": [
    {
     "name": "stdout",
     "output_type": "stream",
     "text": [
      "+---------------+----------+-----------+---------+---------+---------+\n",
      "| Vectorization | Accuracy | Precision |  Recall |    F1   |   AUC   |\n",
      "+---------------+----------+-----------+---------+---------+---------+\n",
      "|    Avg. W2V   | 0.87756  |  0.89415  |  0.966  | 0.92869 | 0.71287 |\n",
      "|   TFIDF W2V   |  0.8681  |  0.88628  | 0.96386 | 0.92344 | 0.68979 |\n",
      "|      BOW      | 0.86461  |  0.96193  | 0.87041 | 0.91388 | 0.85379 |\n",
      "+---------------+----------+-----------+---------+---------+---------+\n"
     ]
    }
   ],
   "source": [
    "from prettytable import PrettyTable\n",
    "\n",
    "x = PrettyTable()\n",
    "\n",
    "x.field_names = ['Vectorization', 'Accuracy', 'Precision', 'Recall', 'F1', 'AUC']\n",
    "x.add_row(['Avg. W2V', acs_avg_w2v, pre_avg_w2v, rec_avg_w2v, f1_avg_w2v, auc_avg_w2v])\n",
    "x.add_row(['TFIDF W2V', acs_tfidf_w2v, pre_tfidf_w2v, rec_tfidf_w2v, f1_tfidf_w2v, auc_tfidf_w2v])\n",
    "x.add_row(['BOW', acs_bow, pre_bow, rec_bow, f1_bow, auc_bow])\n",
    "print(x)"
   ]
  },
  {
   "cell_type": "code",
   "execution_count": 73,
   "metadata": {},
   "outputs": [],
   "source": [
    "from sklearn.metrics import confusion_matrix"
   ]
  },
  {
   "cell_type": "code",
   "execution_count": 74,
   "metadata": {},
   "outputs": [],
   "source": [
    "cm_avg_w2v = pd.DataFrame(confusion_matrix(actuals_avg_w2v, preds_avg_w2v),\n",
    "             columns=['negative', 'positive'], index=['negative', 'positive'])\n",
    "\n",
    "cm_tfidf_w2v = pd.DataFrame(confusion_matrix(actuals_tfidf_w2v, preds_tfidf_w2v),\n",
    "             columns=['negative', 'positive'], index=['negative', 'positive'])\n",
    "\n",
    "cm_bow = pd.DataFrame(confusion_matrix(actuals_bow, preds_bow),\n",
    "             columns=['negative', 'positive'], index=['negative', 'positive'])"
   ]
  },
  {
   "cell_type": "markdown",
   "metadata": {},
   "source": [
    "### Avg. W2V"
   ]
  },
  {
   "cell_type": "code",
   "execution_count": 75,
   "metadata": {},
   "outputs": [
    {
     "data": {
      "text/html": [
       "<div>\n",
       "<style scoped>\n",
       "    .dataframe tbody tr th:only-of-type {\n",
       "        vertical-align: middle;\n",
       "    }\n",
       "\n",
       "    .dataframe tbody tr th {\n",
       "        vertical-align: top;\n",
       "    }\n",
       "\n",
       "    .dataframe thead th {\n",
       "        text-align: right;\n",
       "    }\n",
       "</style>\n",
       "<table border=\"1\" class=\"dataframe\">\n",
       "  <thead>\n",
       "    <tr style=\"text-align: right;\">\n",
       "      <th></th>\n",
       "      <th>negative</th>\n",
       "      <th>positive</th>\n",
       "    </tr>\n",
       "  </thead>\n",
       "  <tbody>\n",
       "    <tr>\n",
       "      <th>negative</th>\n",
       "      <td>8773</td>\n",
       "      <td>10310</td>\n",
       "    </tr>\n",
       "    <tr>\n",
       "      <th>positive</th>\n",
       "      <td>3065</td>\n",
       "      <td>87088</td>\n",
       "    </tr>\n",
       "  </tbody>\n",
       "</table>\n",
       "</div>"
      ],
      "text/plain": [
       "          negative  positive\n",
       "negative      8773     10310\n",
       "positive      3065     87088"
      ]
     },
     "execution_count": 75,
     "metadata": {},
     "output_type": "execute_result"
    }
   ],
   "source": [
    "cm_avg_w2v"
   ]
  },
  {
   "cell_type": "markdown",
   "metadata": {},
   "source": [
    "### TFIDF W2v"
   ]
  },
  {
   "cell_type": "code",
   "execution_count": 76,
   "metadata": {},
   "outputs": [
    {
     "data": {
      "text/html": [
       "<div>\n",
       "<style scoped>\n",
       "    .dataframe tbody tr th:only-of-type {\n",
       "        vertical-align: middle;\n",
       "    }\n",
       "\n",
       "    .dataframe tbody tr th {\n",
       "        vertical-align: top;\n",
       "    }\n",
       "\n",
       "    .dataframe thead th {\n",
       "        text-align: right;\n",
       "    }\n",
       "</style>\n",
       "<table border=\"1\" class=\"dataframe\">\n",
       "  <thead>\n",
       "    <tr style=\"text-align: right;\">\n",
       "      <th></th>\n",
       "      <th>negative</th>\n",
       "      <th>positive</th>\n",
       "    </tr>\n",
       "  </thead>\n",
       "  <tbody>\n",
       "    <tr>\n",
       "      <th>negative</th>\n",
       "      <td>7933</td>\n",
       "      <td>11150</td>\n",
       "    </tr>\n",
       "    <tr>\n",
       "      <th>positive</th>\n",
       "      <td>3258</td>\n",
       "      <td>86895</td>\n",
       "    </tr>\n",
       "  </tbody>\n",
       "</table>\n",
       "</div>"
      ],
      "text/plain": [
       "          negative  positive\n",
       "negative      7933     11150\n",
       "positive      3258     86895"
      ]
     },
     "execution_count": 76,
     "metadata": {},
     "output_type": "execute_result"
    }
   ],
   "source": [
    "cm_tfidf_w2v"
   ]
  },
  {
   "cell_type": "markdown",
   "metadata": {},
   "source": [
    "### BOW"
   ]
  },
  {
   "cell_type": "code",
   "execution_count": 77,
   "metadata": {},
   "outputs": [
    {
     "data": {
      "text/html": [
       "<div>\n",
       "<style scoped>\n",
       "    .dataframe tbody tr th:only-of-type {\n",
       "        vertical-align: middle;\n",
       "    }\n",
       "\n",
       "    .dataframe tbody tr th {\n",
       "        vertical-align: top;\n",
       "    }\n",
       "\n",
       "    .dataframe thead th {\n",
       "        text-align: right;\n",
       "    }\n",
       "</style>\n",
       "<table border=\"1\" class=\"dataframe\">\n",
       "  <thead>\n",
       "    <tr style=\"text-align: right;\">\n",
       "      <th></th>\n",
       "      <th>negative</th>\n",
       "      <th>positive</th>\n",
       "    </tr>\n",
       "  </thead>\n",
       "  <tbody>\n",
       "    <tr>\n",
       "      <th>negative</th>\n",
       "      <td>15970</td>\n",
       "      <td>3106</td>\n",
       "    </tr>\n",
       "    <tr>\n",
       "      <th>positive</th>\n",
       "      <td>11684</td>\n",
       "      <td>78476</td>\n",
       "    </tr>\n",
       "  </tbody>\n",
       "</table>\n",
       "</div>"
      ],
      "text/plain": [
       "          negative  positive\n",
       "negative     15970      3106\n",
       "positive     11684     78476"
      ]
     },
     "execution_count": 77,
     "metadata": {},
     "output_type": "execute_result"
    }
   ],
   "source": [
    "cm_bow"
   ]
  },
  {
   "cell_type": "code",
   "execution_count": null,
   "metadata": {},
   "outputs": [],
   "source": []
  }
 ],
 "metadata": {
  "kernelspec": {
   "display_name": "Python 3",
   "language": "python",
   "name": "python3"
  },
  "language_info": {
   "codemirror_mode": {
    "name": "ipython",
    "version": 3
   },
   "file_extension": ".py",
   "mimetype": "text/x-python",
   "name": "python",
   "nbconvert_exporter": "python",
   "pygments_lexer": "ipython3",
   "version": "3.6.6"
  }
 },
 "nbformat": 4,
 "nbformat_minor": 2
}
