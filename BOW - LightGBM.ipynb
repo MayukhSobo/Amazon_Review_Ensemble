{
 "cells": [
  {
   "cell_type": "code",
   "execution_count": 2,
   "metadata": {},
   "outputs": [],
   "source": [
    "import numpy as np\n",
    "import pandas as pd\n",
    "import sqlite3\n",
    "import matplotlib.pyplot as plt\n",
    "import seaborn as sns\n",
    "import warnings\n",
    "from collections import defaultdict\n",
    "import matplotlib\n",
    "from sklearn.preprocessing import StandardScaler\n",
    "from sklearn.model_selection import (\n",
    "    GridSearchCV, RandomizedSearchCV, \n",
    "    TimeSeriesSplit, validation_curve\n",
    ")\n",
    "from sklearn.exceptions import DataConversionWarning, UndefinedMetricWarning\n",
    "from sklearn.externals import joblib\n",
    "\n",
    "import lightgbm as lgbm\n",
    "\n",
    "from scipy import sparse\n",
    "\n",
    "warnings.filterwarnings(\"ignore\", category=FutureWarning)\n",
    "warnings.filterwarnings(\"ignore\", category=DataConversionWarning)\n",
    "warnings.filterwarnings(\"ignore\", category=UndefinedMetricWarning)\n",
    "%config InlineBackend.figure_format = 'retina'"
   ]
  },
  {
   "cell_type": "code",
   "execution_count": 3,
   "metadata": {},
   "outputs": [],
   "source": [
    "Dtrain = pd.read_csv('../Amazon_Review_commons/Dtrain.csv')\n",
    "Dtest = pd.read_csv('../Amazon_Review_commons/Dtest.csv')"
   ]
  },
  {
   "cell_type": "code",
   "execution_count": 4,
   "metadata": {},
   "outputs": [
    {
     "name": "stderr",
     "output_type": "stream",
     "text": [
      "/home/paperspace/anaconda3/lib/python3.6/site-packages/sklearn/base.py:251: UserWarning: Trying to unpickle estimator CountVectorizer from version 0.19.1 when using version 0.20.0. This might lead to breaking code or invalid results. Use at your own risk.\n",
      "  UserWarning)\n"
     ]
    }
   ],
   "source": [
    "cunt = joblib.load('../Amazon_Review_commons/countVectorizer.model')"
   ]
  },
  {
   "cell_type": "code",
   "execution_count": 5,
   "metadata": {},
   "outputs": [],
   "source": [
    "def get_summary_grid(grid):\n",
    "    parms = list(grid.param_grid.keys())\n",
    "    columns = ['Iter #']\n",
    "    scorings = grid.scoring\n",
    "    for scoring in scorings:\n",
    "        for typ in ['train', 'test']:\n",
    "            columns.append(f'{typ}_{scoring}')\n",
    "    columns.extend(['fit_time', 'score_time'])\n",
    "    for param in grid.param_grid.keys():\n",
    "        columns.append(param)\n",
    "    df = pd.DataFrame(columns=columns)\n",
    "    cv_res = grid.cv_results_\n",
    "    for col in columns[1:-len(parms)]:\n",
    "        df[col] = cv_res['mean_' + col]\n",
    "    items = 1\n",
    "    for k, v in grid.param_grid.items():\n",
    "        items *= len(v)\n",
    "    df['Iter #'] = np.array(range(items)) + 1\n",
    "    res = defaultdict(list)\n",
    "    for each in grid.cv_results_['params']:\n",
    "        for p in parms:\n",
    "            res[p].append(each[p])\n",
    "    for k, v in res.items():\n",
    "        df[k] = v\n",
    "    return df"
   ]
  },
  {
   "cell_type": "code",
   "execution_count": 6,
   "metadata": {},
   "outputs": [],
   "source": [
    "def get_summary_randomized(grid):\n",
    "    parms = list(grid.param_distributions.keys())\n",
    "    columns = []\n",
    "    scorings = grid.scoring\n",
    "    for scoring in scorings:\n",
    "        for typ in ['train', 'test']:\n",
    "            columns.append(f'{typ}_{scoring}')\n",
    "    columns.extend(['fit_time', 'score_time'])\n",
    "    for param in parms:\n",
    "        columns.append(param)\n",
    "    df = pd.DataFrame(columns=columns)\n",
    "    cv_res = grid.cv_results_\n",
    "    for col in columns[0:-len(parms)]:\n",
    "        df[col] = cv_res['mean_' + col]\n",
    "    items = 1\n",
    "#     for k, v in grid.param_distributions.items():\n",
    "#         items *= len(v)\n",
    "#     df['Iter #'] = np.array(range(items)) + 1\n",
    "    res = defaultdict(list)\n",
    "    for each in grid.cv_results_['params']:\n",
    "        for p in parms:\n",
    "            res[p].append(each[p])\n",
    "    for k, v in res.items():\n",
    "        df[k] = v\n",
    "    return df"
   ]
  },
  {
   "cell_type": "code",
   "execution_count": 7,
   "metadata": {},
   "outputs": [],
   "source": [
    "tscv = TimeSeriesSplit(n_splits=5)"
   ]
  },
  {
   "cell_type": "markdown",
   "metadata": {},
   "source": [
    "### Loading the data"
   ]
  },
  {
   "cell_type": "code",
   "execution_count": 22,
   "metadata": {},
   "outputs": [],
   "source": [
    "Dtrain_bow = sparse.load_npz('../Amazon_Review_commons/BOW_train.npz')\n",
    "Dtest_bow = sparse.load_npz('../Amazon_Review_commons/BOW_test.npz')"
   ]
  },
  {
   "cell_type": "code",
   "execution_count": 23,
   "metadata": {},
   "outputs": [],
   "source": [
    "yTrain_bow = Dtrain.Polarity.apply(lambda x: 1 if x == 'positive' else 0).values\n",
    "yTest_bow = Dtest.Polarity.apply(lambda x: 1 if x == 'positive' else 0).values"
   ]
  },
  {
   "cell_type": "code",
   "execution_count": 25,
   "metadata": {},
   "outputs": [],
   "source": [
    "Dtrain_bow = Dtrain_bow.astype('float64')\n",
    "Dtest_bow = Dtest_bow.astype('float64')"
   ]
  },
  {
   "cell_type": "code",
   "execution_count": 26,
   "metadata": {},
   "outputs": [],
   "source": [
    "yTrain_bow = yTrain_bow.astype('float64')\n",
    "yTest_bow = yTest_bow.astype('float64')"
   ]
  },
  {
   "cell_type": "markdown",
   "metadata": {},
   "source": [
    "### GridSearch 1 -- for base learners"
   ]
  },
  {
   "cell_type": "code",
   "execution_count": 43,
   "metadata": {},
   "outputs": [],
   "source": [
    "params = {\n",
    "    'max_depth': [2, 4, 6],  # Typically small value for low variance \n",
    "    'subsample': [0.5, 0.75, 1.0], # Row sampling like Random Forest \n",
    "    'colsample_bytree': [0.3, 0.5, 0.7, 1.0],  # Column sampling like Random Forest\n",
    "    'num_leaves': [2**2, 2**4, 2**6]  # Should be according to the max_depth (small)\n",
    "}"
   ]
  },
  {
   "cell_type": "code",
   "execution_count": 44,
   "metadata": {},
   "outputs": [],
   "source": [
    "estimator = lgbm.LGBMClassifier(random_state=42, \n",
    "                                silent=False, \n",
    "                                n_jobs=1, \n",
    "                                class_weight='balanced',\n",
    "                                objective='binary')"
   ]
  },
  {
   "cell_type": "code",
   "execution_count": 45,
   "metadata": {},
   "outputs": [],
   "source": [
    "grid = GridSearchCV(estimator=estimator,\n",
    "                    param_grid=params,\n",
    "                    scoring={'accuracy', 'precision', 'f1', 'recall', 'roc_auc'},\n",
    "                    refit='f1', # Because we are using multiple evaluation metrics\n",
    "                    cv=tscv,\n",
    "                    return_train_score=True,\n",
    "                    verbose=2,\n",
    "                    n_jobs=-1)"
   ]
  },
  {
   "cell_type": "code",
   "execution_count": 46,
   "metadata": {},
   "outputs": [],
   "source": [
    "features = Dtrain_bow\n",
    "labels = yTrain_bow"
   ]
  },
  {
   "cell_type": "code",
   "execution_count": null,
   "metadata": {},
   "outputs": [],
   "source": [
    "grid.fit(features, labels)  ## Only 11.2 minutes..Impressive (540 fits)"
   ]
  },
  {
   "cell_type": "code",
   "execution_count": 48,
   "metadata": {},
   "outputs": [
    {
     "data": {
      "text/html": [
       "<div>\n",
       "<style scoped>\n",
       "    .dataframe tbody tr th:only-of-type {\n",
       "        vertical-align: middle;\n",
       "    }\n",
       "\n",
       "    .dataframe tbody tr th {\n",
       "        vertical-align: top;\n",
       "    }\n",
       "\n",
       "    .dataframe thead th {\n",
       "        text-align: right;\n",
       "    }\n",
       "</style>\n",
       "<table border=\"1\" class=\"dataframe\">\n",
       "  <thead>\n",
       "    <tr style=\"text-align: right;\">\n",
       "      <th></th>\n",
       "      <th>Iter #</th>\n",
       "      <th>train_f1</th>\n",
       "      <th>test_f1</th>\n",
       "      <th>train_precision</th>\n",
       "      <th>test_precision</th>\n",
       "      <th>train_roc_auc</th>\n",
       "      <th>test_roc_auc</th>\n",
       "      <th>train_recall</th>\n",
       "      <th>test_recall</th>\n",
       "      <th>train_accuracy</th>\n",
       "      <th>test_accuracy</th>\n",
       "      <th>fit_time</th>\n",
       "      <th>score_time</th>\n",
       "      <th>max_depth</th>\n",
       "      <th>subsample</th>\n",
       "      <th>colsample_bytree</th>\n",
       "      <th>num_leaves</th>\n",
       "    </tr>\n",
       "  </thead>\n",
       "  <tbody>\n",
       "    <tr>\n",
       "      <th>24</th>\n",
       "      <td>25</td>\n",
       "      <td>0.844104</td>\n",
       "      <td>0.834055</td>\n",
       "      <td>0.971039</td>\n",
       "      <td>0.957395</td>\n",
       "      <td>0.885451</td>\n",
       "      <td>0.865489</td>\n",
       "      <td>0.746522</td>\n",
       "      <td>0.738884</td>\n",
       "      <td>0.759751</td>\n",
       "      <td>0.752279</td>\n",
       "      <td>13.589072</td>\n",
       "      <td>1.642422</td>\n",
       "      <td>6</td>\n",
       "      <td>0.50</td>\n",
       "      <td>0.3</td>\n",
       "      <td>64</td>\n",
       "    </tr>\n",
       "    <tr>\n",
       "      <th>25</th>\n",
       "      <td>26</td>\n",
       "      <td>0.844104</td>\n",
       "      <td>0.834055</td>\n",
       "      <td>0.971039</td>\n",
       "      <td>0.957395</td>\n",
       "      <td>0.885451</td>\n",
       "      <td>0.865489</td>\n",
       "      <td>0.746522</td>\n",
       "      <td>0.738884</td>\n",
       "      <td>0.759751</td>\n",
       "      <td>0.752279</td>\n",
       "      <td>13.761963</td>\n",
       "      <td>1.505177</td>\n",
       "      <td>6</td>\n",
       "      <td>0.75</td>\n",
       "      <td>0.3</td>\n",
       "      <td>64</td>\n",
       "    </tr>\n",
       "    <tr>\n",
       "      <th>26</th>\n",
       "      <td>27</td>\n",
       "      <td>0.844104</td>\n",
       "      <td>0.834055</td>\n",
       "      <td>0.971039</td>\n",
       "      <td>0.957395</td>\n",
       "      <td>0.885451</td>\n",
       "      <td>0.865489</td>\n",
       "      <td>0.746522</td>\n",
       "      <td>0.738884</td>\n",
       "      <td>0.759751</td>\n",
       "      <td>0.752279</td>\n",
       "      <td>13.485010</td>\n",
       "      <td>1.523830</td>\n",
       "      <td>6</td>\n",
       "      <td>1.00</td>\n",
       "      <td>0.3</td>\n",
       "      <td>64</td>\n",
       "    </tr>\n",
       "    <tr>\n",
       "      <th>80</th>\n",
       "      <td>81</td>\n",
       "      <td>0.843982</td>\n",
       "      <td>0.832883</td>\n",
       "      <td>0.971800</td>\n",
       "      <td>0.957067</td>\n",
       "      <td>0.888214</td>\n",
       "      <td>0.864574</td>\n",
       "      <td>0.745884</td>\n",
       "      <td>0.737232</td>\n",
       "      <td>0.759743</td>\n",
       "      <td>0.750716</td>\n",
       "      <td>14.785540</td>\n",
       "      <td>1.506392</td>\n",
       "      <td>6</td>\n",
       "      <td>1.00</td>\n",
       "      <td>0.7</td>\n",
       "      <td>64</td>\n",
       "    </tr>\n",
       "    <tr>\n",
       "      <th>79</th>\n",
       "      <td>80</td>\n",
       "      <td>0.843982</td>\n",
       "      <td>0.832883</td>\n",
       "      <td>0.971800</td>\n",
       "      <td>0.957067</td>\n",
       "      <td>0.888214</td>\n",
       "      <td>0.864574</td>\n",
       "      <td>0.745884</td>\n",
       "      <td>0.737232</td>\n",
       "      <td>0.759743</td>\n",
       "      <td>0.750716</td>\n",
       "      <td>14.866151</td>\n",
       "      <td>1.489506</td>\n",
       "      <td>6</td>\n",
       "      <td>0.75</td>\n",
       "      <td>0.7</td>\n",
       "      <td>64</td>\n",
       "    </tr>\n",
       "  </tbody>\n",
       "</table>\n",
       "</div>"
      ],
      "text/plain": [
       "    Iter #  train_f1   test_f1  train_precision  test_precision  \\\n",
       "24      25  0.844104  0.834055         0.971039        0.957395   \n",
       "25      26  0.844104  0.834055         0.971039        0.957395   \n",
       "26      27  0.844104  0.834055         0.971039        0.957395   \n",
       "80      81  0.843982  0.832883         0.971800        0.957067   \n",
       "79      80  0.843982  0.832883         0.971800        0.957067   \n",
       "\n",
       "    train_roc_auc  test_roc_auc  train_recall  test_recall  train_accuracy  \\\n",
       "24       0.885451      0.865489      0.746522     0.738884        0.759751   \n",
       "25       0.885451      0.865489      0.746522     0.738884        0.759751   \n",
       "26       0.885451      0.865489      0.746522     0.738884        0.759751   \n",
       "80       0.888214      0.864574      0.745884     0.737232        0.759743   \n",
       "79       0.888214      0.864574      0.745884     0.737232        0.759743   \n",
       "\n",
       "    test_accuracy   fit_time  score_time  max_depth  subsample  \\\n",
       "24       0.752279  13.589072    1.642422          6       0.50   \n",
       "25       0.752279  13.761963    1.505177          6       0.75   \n",
       "26       0.752279  13.485010    1.523830          6       1.00   \n",
       "80       0.750716  14.785540    1.506392          6       1.00   \n",
       "79       0.750716  14.866151    1.489506          6       0.75   \n",
       "\n",
       "    colsample_bytree  num_leaves  \n",
       "24               0.3          64  \n",
       "25               0.3          64  \n",
       "26               0.3          64  \n",
       "80               0.7          64  \n",
       "79               0.7          64  "
      ]
     },
     "execution_count": 48,
     "metadata": {},
     "output_type": "execute_result"
    }
   ],
   "source": [
    "grid_res = get_summary_grid(grid)\n",
    "grid_res.sort_values('test_f1', ascending=False).head()"
   ]
  },
  {
   "cell_type": "code",
   "execution_count": 49,
   "metadata": {},
   "outputs": [],
   "source": [
    "params = {\n",
    "    'n_estimators': [100, 200, 300],\n",
    "    'learning_rate': [0.001, 0.01, 0.1]\n",
    "}"
   ]
  },
  {
   "cell_type": "code",
   "execution_count": 50,
   "metadata": {},
   "outputs": [],
   "source": [
    "estimator = grid.best_estimator_"
   ]
  },
  {
   "cell_type": "code",
   "execution_count": 51,
   "metadata": {},
   "outputs": [],
   "source": [
    "grid2 = GridSearchCV(estimator=estimator,\n",
    "                    param_grid=params,\n",
    "                    scoring={'accuracy', 'precision', 'f1', 'recall', 'roc_auc'},\n",
    "                    refit='f1', # Because we are using multiple evaluation metrics\n",
    "                    cv=tscv,\n",
    "                    return_train_score=True,\n",
    "                    verbose=2,\n",
    "                    n_jobs=-1)"
   ]
  },
  {
   "cell_type": "code",
   "execution_count": 52,
   "metadata": {},
   "outputs": [
    {
     "name": "stdout",
     "output_type": "stream",
     "text": [
      "Fitting 5 folds for each of 9 candidates, totalling 45 fits\n"
     ]
    },
    {
     "name": "stderr",
     "output_type": "stream",
     "text": [
      "[Parallel(n_jobs=-1)]: Using backend LokyBackend with 12 concurrent workers.\n",
      "[Parallel(n_jobs=-1)]: Done  17 tasks      | elapsed:  1.1min\n",
      "[Parallel(n_jobs=-1)]: Done  45 out of  45 | elapsed:  3.5min remaining:    0.0s\n",
      "[Parallel(n_jobs=-1)]: Done  45 out of  45 | elapsed:  3.5min finished\n"
     ]
    },
    {
     "data": {
      "text/plain": [
       "GridSearchCV(cv=TimeSeriesSplit(max_train_size=None, n_splits=5),\n",
       "       error_score='raise-deprecating',\n",
       "       estimator=LGBMClassifier(boosting_type='gbdt', class_weight='balanced',\n",
       "        colsample_bytree=0.3, importance_type='split', learning_rate=0.1,\n",
       "        max_depth=6, min_child_samples=20, min_child_weight=0.001,\n",
       "        min_split_gain=0.0, n_estimators=100, n_jobs=1, num_leaves=64,\n",
       "        objective='binary', random_state=42, reg_alpha=0.0, reg_lambda=0.0,\n",
       "        silent=False, subsample=0.5, subsample_for_bin=200000,\n",
       "        subsample_freq=0),\n",
       "       fit_params=None, iid='warn', n_jobs=-1,\n",
       "       param_grid={'n_estimators': [100, 200, 300], 'learning_rate': [0.001, 0.01, 0.1]},\n",
       "       pre_dispatch='2*n_jobs', refit='f1', return_train_score=True,\n",
       "       scoring={'f1', 'precision', 'roc_auc', 'recall', 'accuracy'},\n",
       "       verbose=2)"
      ]
     },
     "execution_count": 52,
     "metadata": {},
     "output_type": "execute_result"
    }
   ],
   "source": [
    "grid2.fit(features, labels)"
   ]
  },
  {
   "cell_type": "code",
   "execution_count": 53,
   "metadata": {},
   "outputs": [
    {
     "data": {
      "text/html": [
       "<div>\n",
       "<style scoped>\n",
       "    .dataframe tbody tr th:only-of-type {\n",
       "        vertical-align: middle;\n",
       "    }\n",
       "\n",
       "    .dataframe tbody tr th {\n",
       "        vertical-align: top;\n",
       "    }\n",
       "\n",
       "    .dataframe thead th {\n",
       "        text-align: right;\n",
       "    }\n",
       "</style>\n",
       "<table border=\"1\" class=\"dataframe\">\n",
       "  <thead>\n",
       "    <tr style=\"text-align: right;\">\n",
       "      <th></th>\n",
       "      <th>Iter #</th>\n",
       "      <th>train_f1</th>\n",
       "      <th>test_f1</th>\n",
       "      <th>train_precision</th>\n",
       "      <th>test_precision</th>\n",
       "      <th>train_roc_auc</th>\n",
       "      <th>test_roc_auc</th>\n",
       "      <th>train_recall</th>\n",
       "      <th>test_recall</th>\n",
       "      <th>train_accuracy</th>\n",
       "      <th>test_accuracy</th>\n",
       "      <th>fit_time</th>\n",
       "      <th>score_time</th>\n",
       "      <th>n_estimators</th>\n",
       "      <th>learning_rate</th>\n",
       "    </tr>\n",
       "  </thead>\n",
       "  <tbody>\n",
       "    <tr>\n",
       "      <th>8</th>\n",
       "      <td>9</td>\n",
       "      <td>0.889867</td>\n",
       "      <td>0.875543</td>\n",
       "      <td>0.977796</td>\n",
       "      <td>0.961439</td>\n",
       "      <td>0.927231</td>\n",
       "      <td>0.895807</td>\n",
       "      <td>0.816448</td>\n",
       "      <td>0.803758</td>\n",
       "      <td>0.823962</td>\n",
       "      <td>0.807486</td>\n",
       "      <td>31.668525</td>\n",
       "      <td>5.812992</td>\n",
       "      <td>300</td>\n",
       "      <td>0.10</td>\n",
       "    </tr>\n",
       "    <tr>\n",
       "      <th>7</th>\n",
       "      <td>8</td>\n",
       "      <td>0.874611</td>\n",
       "      <td>0.862082</td>\n",
       "      <td>0.975261</td>\n",
       "      <td>0.960278</td>\n",
       "      <td>0.912761</td>\n",
       "      <td>0.886068</td>\n",
       "      <td>0.792796</td>\n",
       "      <td>0.782127</td>\n",
       "      <td>0.801964</td>\n",
       "      <td>0.789148</td>\n",
       "      <td>24.660365</td>\n",
       "      <td>3.557875</td>\n",
       "      <td>200</td>\n",
       "      <td>0.10</td>\n",
       "    </tr>\n",
       "    <tr>\n",
       "      <th>6</th>\n",
       "      <td>7</td>\n",
       "      <td>0.844104</td>\n",
       "      <td>0.834055</td>\n",
       "      <td>0.971039</td>\n",
       "      <td>0.957395</td>\n",
       "      <td>0.885451</td>\n",
       "      <td>0.865489</td>\n",
       "      <td>0.746522</td>\n",
       "      <td>0.738884</td>\n",
       "      <td>0.759751</td>\n",
       "      <td>0.752279</td>\n",
       "      <td>14.051421</td>\n",
       "      <td>1.829090</td>\n",
       "      <td>100</td>\n",
       "      <td>0.10</td>\n",
       "    </tr>\n",
       "    <tr>\n",
       "      <th>5</th>\n",
       "      <td>6</td>\n",
       "      <td>0.791381</td>\n",
       "      <td>0.782244</td>\n",
       "      <td>0.964765</td>\n",
       "      <td>0.951377</td>\n",
       "      <td>0.839670</td>\n",
       "      <td>0.825134</td>\n",
       "      <td>0.670909</td>\n",
       "      <td>0.664200</td>\n",
       "      <td>0.691811</td>\n",
       "      <td>0.688310</td>\n",
       "      <td>41.283668</td>\n",
       "      <td>6.901680</td>\n",
       "      <td>300</td>\n",
       "      <td>0.01</td>\n",
       "    </tr>\n",
       "    <tr>\n",
       "      <th>4</th>\n",
       "      <td>5</td>\n",
       "      <td>0.778941</td>\n",
       "      <td>0.770528</td>\n",
       "      <td>0.964457</td>\n",
       "      <td>0.951537</td>\n",
       "      <td>0.830999</td>\n",
       "      <td>0.817422</td>\n",
       "      <td>0.653440</td>\n",
       "      <td>0.647491</td>\n",
       "      <td>0.677039</td>\n",
       "      <td>0.675108</td>\n",
       "      <td>28.564504</td>\n",
       "      <td>3.761639</td>\n",
       "      <td>200</td>\n",
       "      <td>0.01</td>\n",
       "    </tr>\n",
       "  </tbody>\n",
       "</table>\n",
       "</div>"
      ],
      "text/plain": [
       "   Iter #  train_f1   test_f1  train_precision  test_precision  train_roc_auc  \\\n",
       "8       9  0.889867  0.875543         0.977796        0.961439       0.927231   \n",
       "7       8  0.874611  0.862082         0.975261        0.960278       0.912761   \n",
       "6       7  0.844104  0.834055         0.971039        0.957395       0.885451   \n",
       "5       6  0.791381  0.782244         0.964765        0.951377       0.839670   \n",
       "4       5  0.778941  0.770528         0.964457        0.951537       0.830999   \n",
       "\n",
       "   test_roc_auc  train_recall  test_recall  train_accuracy  test_accuracy  \\\n",
       "8      0.895807      0.816448     0.803758        0.823962       0.807486   \n",
       "7      0.886068      0.792796     0.782127        0.801964       0.789148   \n",
       "6      0.865489      0.746522     0.738884        0.759751       0.752279   \n",
       "5      0.825134      0.670909     0.664200        0.691811       0.688310   \n",
       "4      0.817422      0.653440     0.647491        0.677039       0.675108   \n",
       "\n",
       "    fit_time  score_time  n_estimators  learning_rate  \n",
       "8  31.668525    5.812992           300           0.10  \n",
       "7  24.660365    3.557875           200           0.10  \n",
       "6  14.051421    1.829090           100           0.10  \n",
       "5  41.283668    6.901680           300           0.01  \n",
       "4  28.564504    3.761639           200           0.01  "
      ]
     },
     "execution_count": 53,
     "metadata": {},
     "output_type": "execute_result"
    }
   ],
   "source": [
    "grid_res = get_summary_grid(grid2)\n",
    "grid_res.sort_values('test_f1', ascending=False).head()"
   ]
  },
  {
   "cell_type": "code",
   "execution_count": 54,
   "metadata": {},
   "outputs": [],
   "source": [
    "params = {\n",
    "    'n_estimators': [300, 500, 700, 1000],\n",
    "}"
   ]
  },
  {
   "cell_type": "code",
   "execution_count": 56,
   "metadata": {},
   "outputs": [],
   "source": [
    "estimator = grid2.best_estimator_"
   ]
  },
  {
   "cell_type": "code",
   "execution_count": 57,
   "metadata": {},
   "outputs": [],
   "source": [
    "grid3 = GridSearchCV(estimator=estimator,\n",
    "                    param_grid=params,\n",
    "                    scoring={'accuracy', 'precision', 'f1', 'recall', 'roc_auc'},\n",
    "                    refit='f1', # Because we are using multiple evaluation metrics\n",
    "                    cv=tscv,\n",
    "                    return_train_score=True,\n",
    "                    verbose=2,\n",
    "                    n_jobs=-1)"
   ]
  },
  {
   "cell_type": "code",
   "execution_count": 58,
   "metadata": {},
   "outputs": [
    {
     "name": "stdout",
     "output_type": "stream",
     "text": [
      "Fitting 5 folds for each of 4 candidates, totalling 20 fits\n"
     ]
    },
    {
     "name": "stderr",
     "output_type": "stream",
     "text": [
      "[Parallel(n_jobs=-1)]: Using backend LokyBackend with 12 concurrent workers.\n",
      "[Parallel(n_jobs=-1)]: Done   8 out of  20 | elapsed:  1.5min remaining:  2.3min\n",
      "[Parallel(n_jobs=-1)]: Done  20 out of  20 | elapsed:  6.2min finished\n"
     ]
    },
    {
     "data": {
      "text/plain": [
       "GridSearchCV(cv=TimeSeriesSplit(max_train_size=None, n_splits=5),\n",
       "       error_score='raise-deprecating',\n",
       "       estimator=LGBMClassifier(boosting_type='gbdt', class_weight='balanced',\n",
       "        colsample_bytree=0.3, importance_type='split', learning_rate=0.1,\n",
       "        max_depth=6, min_child_samples=20, min_child_weight=0.001,\n",
       "        min_split_gain=0.0, n_estimators=300, n_jobs=1, num_leaves=64,\n",
       "        objective='binary', random_state=42, reg_alpha=0.0, reg_lambda=0.0,\n",
       "        silent=False, subsample=0.5, subsample_for_bin=200000,\n",
       "        subsample_freq=0),\n",
       "       fit_params=None, iid='warn', n_jobs=-1,\n",
       "       param_grid={'n_estimators': [300, 500, 700, 1000]},\n",
       "       pre_dispatch='2*n_jobs', refit='f1', return_train_score=True,\n",
       "       scoring={'f1', 'precision', 'roc_auc', 'recall', 'accuracy'},\n",
       "       verbose=2)"
      ]
     },
     "execution_count": 58,
     "metadata": {},
     "output_type": "execute_result"
    }
   ],
   "source": [
    "grid3.fit(features, labels)"
   ]
  },
  {
   "cell_type": "code",
   "execution_count": 59,
   "metadata": {},
   "outputs": [
    {
     "data": {
      "text/html": [
       "<div>\n",
       "<style scoped>\n",
       "    .dataframe tbody tr th:only-of-type {\n",
       "        vertical-align: middle;\n",
       "    }\n",
       "\n",
       "    .dataframe tbody tr th {\n",
       "        vertical-align: top;\n",
       "    }\n",
       "\n",
       "    .dataframe thead th {\n",
       "        text-align: right;\n",
       "    }\n",
       "</style>\n",
       "<table border=\"1\" class=\"dataframe\">\n",
       "  <thead>\n",
       "    <tr style=\"text-align: right;\">\n",
       "      <th></th>\n",
       "      <th>Iter #</th>\n",
       "      <th>train_f1</th>\n",
       "      <th>test_f1</th>\n",
       "      <th>train_precision</th>\n",
       "      <th>test_precision</th>\n",
       "      <th>train_roc_auc</th>\n",
       "      <th>test_roc_auc</th>\n",
       "      <th>train_recall</th>\n",
       "      <th>test_recall</th>\n",
       "      <th>train_accuracy</th>\n",
       "      <th>test_accuracy</th>\n",
       "      <th>fit_time</th>\n",
       "      <th>score_time</th>\n",
       "      <th>n_estimators</th>\n",
       "    </tr>\n",
       "  </thead>\n",
       "  <tbody>\n",
       "    <tr>\n",
       "      <th>3</th>\n",
       "      <td>4</td>\n",
       "      <td>0.926691</td>\n",
       "      <td>0.904506</td>\n",
       "      <td>0.985583</td>\n",
       "      <td>0.961728</td>\n",
       "      <td>0.961921</td>\n",
       "      <td>0.912211</td>\n",
       "      <td>0.874450</td>\n",
       "      <td>0.853766</td>\n",
       "      <td>0.879594</td>\n",
       "      <td>0.848164</td>\n",
       "      <td>94.953987</td>\n",
       "      <td>19.114486</td>\n",
       "      <td>1000</td>\n",
       "    </tr>\n",
       "    <tr>\n",
       "      <th>2</th>\n",
       "      <td>3</td>\n",
       "      <td>0.916631</td>\n",
       "      <td>0.897266</td>\n",
       "      <td>0.983220</td>\n",
       "      <td>0.962234</td>\n",
       "      <td>0.952741</td>\n",
       "      <td>0.909241</td>\n",
       "      <td>0.858492</td>\n",
       "      <td>0.840554</td>\n",
       "      <td>0.864040</td>\n",
       "      <td>0.837867</td>\n",
       "      <td>72.531581</td>\n",
       "      <td>14.728436</td>\n",
       "      <td>700</td>\n",
       "    </tr>\n",
       "    <tr>\n",
       "      <th>1</th>\n",
       "      <td>2</td>\n",
       "      <td>0.906749</td>\n",
       "      <td>0.889655</td>\n",
       "      <td>0.981068</td>\n",
       "      <td>0.962217</td>\n",
       "      <td>0.943425</td>\n",
       "      <td>0.904993</td>\n",
       "      <td>0.842898</td>\n",
       "      <td>0.827301</td>\n",
       "      <td>0.849024</td>\n",
       "      <td>0.827123</td>\n",
       "      <td>53.821782</td>\n",
       "      <td>10.682526</td>\n",
       "      <td>500</td>\n",
       "    </tr>\n",
       "    <tr>\n",
       "      <th>0</th>\n",
       "      <td>1</td>\n",
       "      <td>0.889867</td>\n",
       "      <td>0.875543</td>\n",
       "      <td>0.977796</td>\n",
       "      <td>0.961439</td>\n",
       "      <td>0.927231</td>\n",
       "      <td>0.895807</td>\n",
       "      <td>0.816448</td>\n",
       "      <td>0.803758</td>\n",
       "      <td>0.823962</td>\n",
       "      <td>0.807486</td>\n",
       "      <td>33.668360</td>\n",
       "      <td>6.159739</td>\n",
       "      <td>300</td>\n",
       "    </tr>\n",
       "  </tbody>\n",
       "</table>\n",
       "</div>"
      ],
      "text/plain": [
       "   Iter #  train_f1   test_f1  train_precision  test_precision  train_roc_auc  \\\n",
       "3       4  0.926691  0.904506         0.985583        0.961728       0.961921   \n",
       "2       3  0.916631  0.897266         0.983220        0.962234       0.952741   \n",
       "1       2  0.906749  0.889655         0.981068        0.962217       0.943425   \n",
       "0       1  0.889867  0.875543         0.977796        0.961439       0.927231   \n",
       "\n",
       "   test_roc_auc  train_recall  test_recall  train_accuracy  test_accuracy  \\\n",
       "3      0.912211      0.874450     0.853766        0.879594       0.848164   \n",
       "2      0.909241      0.858492     0.840554        0.864040       0.837867   \n",
       "1      0.904993      0.842898     0.827301        0.849024       0.827123   \n",
       "0      0.895807      0.816448     0.803758        0.823962       0.807486   \n",
       "\n",
       "    fit_time  score_time  n_estimators  \n",
       "3  94.953987   19.114486          1000  \n",
       "2  72.531581   14.728436           700  \n",
       "1  53.821782   10.682526           500  \n",
       "0  33.668360    6.159739           300  "
      ]
     },
     "execution_count": 59,
     "metadata": {},
     "output_type": "execute_result"
    }
   ],
   "source": [
    "grid_res = get_summary_grid(grid3)\n",
    "grid_res.sort_values('test_f1', ascending=False).head()"
   ]
  },
  {
   "cell_type": "code",
   "execution_count": 60,
   "metadata": {},
   "outputs": [],
   "source": [
    "params = {\n",
    "    'n_estimators': [1500, 2000, 2500],\n",
    "}"
   ]
  },
  {
   "cell_type": "code",
   "execution_count": 61,
   "metadata": {},
   "outputs": [],
   "source": [
    "grid4 = GridSearchCV(estimator=estimator,\n",
    "                    param_grid=params,\n",
    "                    scoring={'accuracy', 'precision', 'f1', 'recall', 'roc_auc'},\n",
    "                    refit='f1', # Because we are using multiple evaluation metrics\n",
    "                    cv=tscv,\n",
    "                    return_train_score=True,\n",
    "                    verbose=2,\n",
    "                    n_jobs=-1)"
   ]
  },
  {
   "cell_type": "code",
   "execution_count": 62,
   "metadata": {},
   "outputs": [
    {
     "name": "stdout",
     "output_type": "stream",
     "text": [
      "Fitting 5 folds for each of 3 candidates, totalling 15 fits\n"
     ]
    },
    {
     "name": "stderr",
     "output_type": "stream",
     "text": [
      "[Parallel(n_jobs=-1)]: Using backend LokyBackend with 12 concurrent workers.\n",
      "[Parallel(n_jobs=-1)]: Done   8 out of  15 | elapsed:  6.0min remaining:  5.2min\n",
      "[Parallel(n_jobs=-1)]: Done  15 out of  15 | elapsed: 13.9min finished\n"
     ]
    },
    {
     "data": {
      "text/plain": [
       "GridSearchCV(cv=TimeSeriesSplit(max_train_size=None, n_splits=5),\n",
       "       error_score='raise-deprecating',\n",
       "       estimator=LGBMClassifier(boosting_type='gbdt', class_weight='balanced',\n",
       "        colsample_bytree=0.3, importance_type='split', learning_rate=0.1,\n",
       "        max_depth=6, min_child_samples=20, min_child_weight=0.001,\n",
       "        min_split_gain=0.0, n_estimators=300, n_jobs=1, num_leaves=64,\n",
       "        objective='binary', random_state=42, reg_alpha=0.0, reg_lambda=0.0,\n",
       "        silent=False, subsample=0.5, subsample_for_bin=200000,\n",
       "        subsample_freq=0),\n",
       "       fit_params=None, iid='warn', n_jobs=-1,\n",
       "       param_grid={'n_estimators': [1500, 2000, 2500]},\n",
       "       pre_dispatch='2*n_jobs', refit='f1', return_train_score=True,\n",
       "       scoring={'f1', 'precision', 'roc_auc', 'recall', 'accuracy'},\n",
       "       verbose=2)"
      ]
     },
     "execution_count": 62,
     "metadata": {},
     "output_type": "execute_result"
    }
   ],
   "source": [
    "grid4.fit(features, labels)"
   ]
  },
  {
   "cell_type": "code",
   "execution_count": 63,
   "metadata": {},
   "outputs": [
    {
     "data": {
      "text/html": [
       "<div>\n",
       "<style scoped>\n",
       "    .dataframe tbody tr th:only-of-type {\n",
       "        vertical-align: middle;\n",
       "    }\n",
       "\n",
       "    .dataframe tbody tr th {\n",
       "        vertical-align: top;\n",
       "    }\n",
       "\n",
       "    .dataframe thead th {\n",
       "        text-align: right;\n",
       "    }\n",
       "</style>\n",
       "<table border=\"1\" class=\"dataframe\">\n",
       "  <thead>\n",
       "    <tr style=\"text-align: right;\">\n",
       "      <th></th>\n",
       "      <th>Iter #</th>\n",
       "      <th>train_f1</th>\n",
       "      <th>test_f1</th>\n",
       "      <th>train_precision</th>\n",
       "      <th>test_precision</th>\n",
       "      <th>train_roc_auc</th>\n",
       "      <th>test_roc_auc</th>\n",
       "      <th>train_recall</th>\n",
       "      <th>test_recall</th>\n",
       "      <th>train_accuracy</th>\n",
       "      <th>test_accuracy</th>\n",
       "      <th>fit_time</th>\n",
       "      <th>score_time</th>\n",
       "      <th>n_estimators</th>\n",
       "    </tr>\n",
       "  </thead>\n",
       "  <tbody>\n",
       "    <tr>\n",
       "      <th>2</th>\n",
       "      <td>3</td>\n",
       "      <td>0.950702</td>\n",
       "      <td>0.919290</td>\n",
       "      <td>0.991488</td>\n",
       "      <td>0.958379</td>\n",
       "      <td>0.981293</td>\n",
       "      <td>0.913727</td>\n",
       "      <td>0.913186</td>\n",
       "      <td>0.883362</td>\n",
       "      <td>0.917737</td>\n",
       "      <td>0.869402</td>\n",
       "      <td>235.349141</td>\n",
       "      <td>48.264976</td>\n",
       "      <td>2500</td>\n",
       "    </tr>\n",
       "    <tr>\n",
       "      <th>1</th>\n",
       "      <td>2</td>\n",
       "      <td>0.944918</td>\n",
       "      <td>0.916261</td>\n",
       "      <td>0.990109</td>\n",
       "      <td>0.959824</td>\n",
       "      <td>0.977123</td>\n",
       "      <td>0.914002</td>\n",
       "      <td>0.903704</td>\n",
       "      <td>0.876559</td>\n",
       "      <td>0.908419</td>\n",
       "      <td>0.865085</td>\n",
       "      <td>199.853163</td>\n",
       "      <td>40.456557</td>\n",
       "      <td>2000</td>\n",
       "    </tr>\n",
       "    <tr>\n",
       "      <th>0</th>\n",
       "      <td>1</td>\n",
       "      <td>0.937446</td>\n",
       "      <td>0.912090</td>\n",
       "      <td>0.988253</td>\n",
       "      <td>0.960828</td>\n",
       "      <td>0.971236</td>\n",
       "      <td>0.913759</td>\n",
       "      <td>0.891629</td>\n",
       "      <td>0.868126</td>\n",
       "      <td>0.896502</td>\n",
       "      <td>0.859073</td>\n",
       "      <td>155.905648</td>\n",
       "      <td>32.175028</td>\n",
       "      <td>1500</td>\n",
       "    </tr>\n",
       "  </tbody>\n",
       "</table>\n",
       "</div>"
      ],
      "text/plain": [
       "   Iter #  train_f1   test_f1  train_precision  test_precision  train_roc_auc  \\\n",
       "2       3  0.950702  0.919290         0.991488        0.958379       0.981293   \n",
       "1       2  0.944918  0.916261         0.990109        0.959824       0.977123   \n",
       "0       1  0.937446  0.912090         0.988253        0.960828       0.971236   \n",
       "\n",
       "   test_roc_auc  train_recall  test_recall  train_accuracy  test_accuracy  \\\n",
       "2      0.913727      0.913186     0.883362        0.917737       0.869402   \n",
       "1      0.914002      0.903704     0.876559        0.908419       0.865085   \n",
       "0      0.913759      0.891629     0.868126        0.896502       0.859073   \n",
       "\n",
       "     fit_time  score_time  n_estimators  \n",
       "2  235.349141   48.264976          2500  \n",
       "1  199.853163   40.456557          2000  \n",
       "0  155.905648   32.175028          1500  "
      ]
     },
     "execution_count": 63,
     "metadata": {},
     "output_type": "execute_result"
    }
   ],
   "source": [
    "grid_res = get_summary_grid(grid4)\n",
    "grid_res.sort_values('test_f1', ascending=False).head()"
   ]
  },
  {
   "cell_type": "markdown",
   "metadata": {},
   "source": [
    "### Some Regularisations"
   ]
  },
  {
   "cell_type": "code",
   "execution_count": 64,
   "metadata": {},
   "outputs": [],
   "source": [
    "params = {\n",
    "    'reg_alpha': [0.1, 1, 10],\n",
    "    'reg_lambda': [0.1, 1, 10]\n",
    "}"
   ]
  },
  {
   "cell_type": "code",
   "execution_count": 65,
   "metadata": {},
   "outputs": [],
   "source": [
    "estimator = grid4.best_estimator_"
   ]
  },
  {
   "cell_type": "code",
   "execution_count": 66,
   "metadata": {},
   "outputs": [],
   "source": [
    "grid5 = GridSearchCV(estimator=estimator,\n",
    "                    param_grid=params,\n",
    "                    scoring={'accuracy', 'precision', 'f1', 'recall', 'roc_auc'},\n",
    "                    refit='f1', # Because we are using multiple evaluation metrics\n",
    "                    cv=tscv,\n",
    "                    return_train_score=True,\n",
    "                    verbose=2,\n",
    "                    n_jobs=-1)"
   ]
  },
  {
   "cell_type": "code",
   "execution_count": 67,
   "metadata": {},
   "outputs": [
    {
     "name": "stdout",
     "output_type": "stream",
     "text": [
      "Fitting 5 folds for each of 9 candidates, totalling 45 fits\n"
     ]
    },
    {
     "name": "stderr",
     "output_type": "stream",
     "text": [
      "[Parallel(n_jobs=-1)]: Using backend LokyBackend with 12 concurrent workers.\n",
      "[Parallel(n_jobs=-1)]: Done  17 tasks      | elapsed: 14.1min\n",
      "[Parallel(n_jobs=-1)]: Done  45 out of  45 | elapsed: 35.6min remaining:    0.0s\n",
      "[Parallel(n_jobs=-1)]: Done  45 out of  45 | elapsed: 35.6min finished\n"
     ]
    },
    {
     "data": {
      "text/plain": [
       "GridSearchCV(cv=TimeSeriesSplit(max_train_size=None, n_splits=5),\n",
       "       error_score='raise-deprecating',\n",
       "       estimator=LGBMClassifier(boosting_type='gbdt', class_weight='balanced',\n",
       "        colsample_bytree=0.3, importance_type='split', learning_rate=0.1,\n",
       "        max_depth=6, min_child_samples=20, min_child_weight=0.001,\n",
       "        min_split_gain=0.0, n_estimators=2500, n_jobs=1, num_leaves=64,\n",
       "        objective='binary', random_state=42, reg_alpha=0.0, reg_lambda=0.0,\n",
       "        silent=False, subsample=0.5, subsample_for_bin=200000,\n",
       "        subsample_freq=0),\n",
       "       fit_params=None, iid='warn', n_jobs=-1,\n",
       "       param_grid={'reg_alpha': [0.1, 1, 10], 'reg_lambda': [0.1, 1, 10]},\n",
       "       pre_dispatch='2*n_jobs', refit='f1', return_train_score=True,\n",
       "       scoring={'f1', 'precision', 'roc_auc', 'recall', 'accuracy'},\n",
       "       verbose=2)"
      ]
     },
     "execution_count": 67,
     "metadata": {},
     "output_type": "execute_result"
    }
   ],
   "source": [
    "grid5.fit(features, labels)"
   ]
  },
  {
   "cell_type": "code",
   "execution_count": 68,
   "metadata": {},
   "outputs": [
    {
     "data": {
      "text/html": [
       "<div>\n",
       "<style scoped>\n",
       "    .dataframe tbody tr th:only-of-type {\n",
       "        vertical-align: middle;\n",
       "    }\n",
       "\n",
       "    .dataframe tbody tr th {\n",
       "        vertical-align: top;\n",
       "    }\n",
       "\n",
       "    .dataframe thead th {\n",
       "        text-align: right;\n",
       "    }\n",
       "</style>\n",
       "<table border=\"1\" class=\"dataframe\">\n",
       "  <thead>\n",
       "    <tr style=\"text-align: right;\">\n",
       "      <th></th>\n",
       "      <th>Iter #</th>\n",
       "      <th>train_f1</th>\n",
       "      <th>test_f1</th>\n",
       "      <th>train_precision</th>\n",
       "      <th>test_precision</th>\n",
       "      <th>train_roc_auc</th>\n",
       "      <th>test_roc_auc</th>\n",
       "      <th>train_recall</th>\n",
       "      <th>test_recall</th>\n",
       "      <th>train_accuracy</th>\n",
       "      <th>test_accuracy</th>\n",
       "      <th>fit_time</th>\n",
       "      <th>score_time</th>\n",
       "      <th>reg_alpha</th>\n",
       "      <th>reg_lambda</th>\n",
       "    </tr>\n",
       "  </thead>\n",
       "  <tbody>\n",
       "    <tr>\n",
       "      <th>0</th>\n",
       "      <td>1</td>\n",
       "      <td>0.949352</td>\n",
       "      <td>0.918790</td>\n",
       "      <td>0.991271</td>\n",
       "      <td>0.958666</td>\n",
       "      <td>0.980267</td>\n",
       "      <td>0.915146</td>\n",
       "      <td>0.910876</td>\n",
       "      <td>0.882181</td>\n",
       "      <td>0.915558</td>\n",
       "      <td>0.868686</td>\n",
       "      <td>253.939037</td>\n",
       "      <td>61.095693</td>\n",
       "      <td>0.1</td>\n",
       "      <td>0.1</td>\n",
       "    </tr>\n",
       "    <tr>\n",
       "      <th>3</th>\n",
       "      <td>4</td>\n",
       "      <td>0.945994</td>\n",
       "      <td>0.918261</td>\n",
       "      <td>0.990395</td>\n",
       "      <td>0.960310</td>\n",
       "      <td>0.977451</td>\n",
       "      <td>0.918595</td>\n",
       "      <td>0.905431</td>\n",
       "      <td>0.879817</td>\n",
       "      <td>0.910126</td>\n",
       "      <td>0.868112</td>\n",
       "      <td>252.906295</td>\n",
       "      <td>62.687338</td>\n",
       "      <td>1.0</td>\n",
       "      <td>0.1</td>\n",
       "    </tr>\n",
       "    <tr>\n",
       "      <th>1</th>\n",
       "      <td>2</td>\n",
       "      <td>0.946152</td>\n",
       "      <td>0.917790</td>\n",
       "      <td>0.990397</td>\n",
       "      <td>0.959882</td>\n",
       "      <td>0.977659</td>\n",
       "      <td>0.917499</td>\n",
       "      <td>0.905721</td>\n",
       "      <td>0.879307</td>\n",
       "      <td>0.910380</td>\n",
       "      <td>0.867349</td>\n",
       "      <td>252.986226</td>\n",
       "      <td>58.935421</td>\n",
       "      <td>0.1</td>\n",
       "      <td>1.0</td>\n",
       "    </tr>\n",
       "    <tr>\n",
       "      <th>4</th>\n",
       "      <td>5</td>\n",
       "      <td>0.943455</td>\n",
       "      <td>0.917103</td>\n",
       "      <td>0.989699</td>\n",
       "      <td>0.960829</td>\n",
       "      <td>0.975271</td>\n",
       "      <td>0.919015</td>\n",
       "      <td>0.901357</td>\n",
       "      <td>0.877249</td>\n",
       "      <td>0.906029</td>\n",
       "      <td>0.866436</td>\n",
       "      <td>249.217564</td>\n",
       "      <td>55.466201</td>\n",
       "      <td>1.0</td>\n",
       "      <td>1.0</td>\n",
       "    </tr>\n",
       "    <tr>\n",
       "      <th>2</th>\n",
       "      <td>3</td>\n",
       "      <td>0.935107</td>\n",
       "      <td>0.913004</td>\n",
       "      <td>0.987220</td>\n",
       "      <td>0.962874</td>\n",
       "      <td>0.967308</td>\n",
       "      <td>0.919350</td>\n",
       "      <td>0.888222</td>\n",
       "      <td>0.868083</td>\n",
       "      <td>0.892670</td>\n",
       "      <td>0.860621</td>\n",
       "      <td>250.063375</td>\n",
       "      <td>56.408112</td>\n",
       "      <td>0.1</td>\n",
       "      <td>10.0</td>\n",
       "    </tr>\n",
       "  </tbody>\n",
       "</table>\n",
       "</div>"
      ],
      "text/plain": [
       "   Iter #  train_f1   test_f1  train_precision  test_precision  train_roc_auc  \\\n",
       "0       1  0.949352  0.918790         0.991271        0.958666       0.980267   \n",
       "3       4  0.945994  0.918261         0.990395        0.960310       0.977451   \n",
       "1       2  0.946152  0.917790         0.990397        0.959882       0.977659   \n",
       "4       5  0.943455  0.917103         0.989699        0.960829       0.975271   \n",
       "2       3  0.935107  0.913004         0.987220        0.962874       0.967308   \n",
       "\n",
       "   test_roc_auc  train_recall  test_recall  train_accuracy  test_accuracy  \\\n",
       "0      0.915146      0.910876     0.882181        0.915558       0.868686   \n",
       "3      0.918595      0.905431     0.879817        0.910126       0.868112   \n",
       "1      0.917499      0.905721     0.879307        0.910380       0.867349   \n",
       "4      0.919015      0.901357     0.877249        0.906029       0.866436   \n",
       "2      0.919350      0.888222     0.868083        0.892670       0.860621   \n",
       "\n",
       "     fit_time  score_time  reg_alpha  reg_lambda  \n",
       "0  253.939037   61.095693        0.1         0.1  \n",
       "3  252.906295   62.687338        1.0         0.1  \n",
       "1  252.986226   58.935421        0.1         1.0  \n",
       "4  249.217564   55.466201        1.0         1.0  \n",
       "2  250.063375   56.408112        0.1        10.0  "
      ]
     },
     "execution_count": 68,
     "metadata": {},
     "output_type": "execute_result"
    }
   ],
   "source": [
    "grid_res = get_summary_grid(grid5)\n",
    "grid_res.sort_values('test_f1', ascending=False).head()"
   ]
  },
  {
   "cell_type": "code",
   "execution_count": 69,
   "metadata": {},
   "outputs": [],
   "source": [
    "clf = grid5.best_estimator_"
   ]
  },
  {
   "cell_type": "code",
   "execution_count": 72,
   "metadata": {},
   "outputs": [
    {
     "data": {
      "text/plain": [
       "array([0, 0, 0, ..., 0, 0, 0])"
      ]
     },
     "execution_count": 72,
     "metadata": {},
     "output_type": "execute_result"
    }
   ],
   "source": [
    "clf.feature_importances_"
   ]
  },
  {
   "cell_type": "code",
   "execution_count": 73,
   "metadata": {},
   "outputs": [],
   "source": [
    "def get_top_n_features(n, weights, typ='+'):\n",
    "    if typ == '+':\n",
    "        INDEX_topW = weights.argsort()[::-1][0:n]\n",
    "    elif typ == '-':\n",
    "        INDEX_topW = weights.argsort()[0:n]\n",
    "    topW = weights[INDEX_topW]\n",
    "    featureNames = np.array(cunt.get_feature_names())\n",
    "    return pd.DataFrame({'features': featureNames[INDEX_topW],\n",
    " 'score': topW})"
   ]
  },
  {
   "cell_type": "code",
   "execution_count": 75,
   "metadata": {},
   "outputs": [],
   "source": [
    "fimp = get_top_n_features(20, clf.feature_importances_)"
   ]
  },
  {
   "cell_type": "code",
   "execution_count": 77,
   "metadata": {},
   "outputs": [],
   "source": [
    "plt.rcParams['figure.figsize'] = [10, 6]"
   ]
  },
  {
   "cell_type": "code",
   "execution_count": 78,
   "metadata": {},
   "outputs": [
    {
     "data": {
      "image/png": "[encoded data removed]",
      "text/plain": [
       "<Figure size 720x432 with 1 Axes>"
      ]
     },
     "metadata": {
      "image/png": {
       "height": 423,
       "width": 728
      }
     },
     "output_type": "display_data"
    }
   ],
   "source": [
    "plt.style.use('fivethirtyeight')\n",
    "sns.barplot(y='features', x='score', data=fimp, palette='Blues_d');\n",
    "plt.title('Top 20 Overall Features');"
   ]
  },
  {
   "cell_type": "markdown",
   "metadata": {},
   "source": [
    "### F1 score on the test data"
   ]
  },
  {
   "cell_type": "code",
   "execution_count": 79,
   "metadata": {},
   "outputs": [],
   "source": [
    "xTest_bow = Dtest_bow\n",
    "actuals_bow = yTest_bow"
   ]
  },
  {
   "cell_type": "code",
   "execution_count": 85,
   "metadata": {},
   "outputs": [],
   "source": [
    "from sklearn.metrics import (\n",
    "    accuracy_score,\n",
    "    precision_score,\n",
    "    recall_score,\n",
    "    f1_score,\n",
    "    roc_auc_score\n",
    ")"
   ]
  },
  {
   "cell_type": "code",
   "execution_count": 81,
   "metadata": {},
   "outputs": [],
   "source": [
    "preds_bow = clf.predict(xTest_bow)"
   ]
  },
  {
   "cell_type": "code",
   "execution_count": 86,
   "metadata": {},
   "outputs": [],
   "source": [
    "acs_bow = round(accuracy_score(actuals_bow, preds_bow), 5)\n",
    "pre_bow = round(precision_score(actuals_bow, preds_bow), 5)\n",
    "rec_bow = round(recall_score(actuals_bow, preds_bow), 5)\n",
    "f1_bow = round(f1_score(actuals_bow, preds_bow), 5)\n",
    "auc_bow = round(roc_auc_score(actuals_bow, preds_bow), 5)"
   ]
  },
  {
   "cell_type": "code",
   "execution_count": 87,
   "metadata": {},
   "outputs": [
    {
     "name": "stdout",
     "output_type": "stream",
     "text": [
      "+---------------+----------+-----------+---------+---------+---------+\n",
      "| Vectorization | Accuracy | Precision |  Recall |    F1   |   AUC   |\n",
      "+---------------+----------+-----------+---------+---------+---------+\n",
      "|      BOW      | 0.86461  |  0.96193  | 0.87041 | 0.91388 | 0.85379 |\n",
      "+---------------+----------+-----------+---------+---------+---------+\n"
     ]
    }
   ],
   "source": [
    "from prettytable import PrettyTable\n",
    "\n",
    "x = PrettyTable()\n",
    "\n",
    "x.field_names = ['Vectorization', 'Accuracy', 'Precision', 'Recall', 'F1', 'AUC']\n",
    "x.add_row(['BOW', acs_bow, pre_bow, rec_bow, f1_bow, auc_bow])\n",
    "print(x)"
   ]
  },
  {
   "cell_type": "code",
   "execution_count": 88,
   "metadata": {},
   "outputs": [],
   "source": [
    "from sklearn.metrics import confusion_matrix"
   ]
  },
  {
   "cell_type": "code",
   "execution_count": 89,
   "metadata": {},
   "outputs": [],
   "source": [
    "cm_bow = pd.DataFrame(confusion_matrix(actuals_bow, preds_bow),\n",
    "             columns=['negative', 'positive'], index=['negative', 'positive'])"
   ]
  },
  {
   "cell_type": "code",
   "execution_count": 90,
   "metadata": {},
   "outputs": [
    {
     "data": {
      "text/html": [
       "<div>\n",
       "<style scoped>\n",
       "    .dataframe tbody tr th:only-of-type {\n",
       "        vertical-align: middle;\n",
       "    }\n",
       "\n",
       "    .dataframe tbody tr th {\n",
       "        vertical-align: top;\n",
       "    }\n",
       "\n",
       "    .dataframe thead th {\n",
       "        text-align: right;\n",
       "    }\n",
       "</style>\n",
       "<table border=\"1\" class=\"dataframe\">\n",
       "  <thead>\n",
       "    <tr style=\"text-align: right;\">\n",
       "      <th></th>\n",
       "      <th>negative</th>\n",
       "      <th>positive</th>\n",
       "    </tr>\n",
       "  </thead>\n",
       "  <tbody>\n",
       "    <tr>\n",
       "      <th>negative</th>\n",
       "      <td>15970</td>\n",
       "      <td>3106</td>\n",
       "    </tr>\n",
       "    <tr>\n",
       "      <th>positive</th>\n",
       "      <td>11684</td>\n",
       "      <td>78476</td>\n",
       "    </tr>\n",
       "  </tbody>\n",
       "</table>\n",
       "</div>"
      ],
      "text/plain": [
       "          negative  positive\n",
       "negative     15970      3106\n",
       "positive     11684     78476"
      ]
     },
     "execution_count": 90,
     "metadata": {},
     "output_type": "execute_result"
    }
   ],
   "source": [
    "cm_bow"
   ]
  },
  {
   "cell_type": "code",
   "execution_count": null,
   "metadata": {},
   "outputs": [],
   "source": []
  }
 ],
 "metadata": {
  "kernelspec": {
   "display_name": "Python 3",
   "language": "python",
   "name": "python3"
  },
  "language_info": {
   "codemirror_mode": {
    "name": "ipython",
    "version": 3
   },
   "file_extension": ".py",
   "mimetype": "text/x-python",
   "name": "python",
   "nbconvert_exporter": "python",
   "pygments_lexer": "ipython3",
   "version": "3.6.6"
  }
 },
 "nbformat": 4,
 "nbformat_minor": 2
}
